{
 "cells": [
  {
   "cell_type": "markdown",
   "metadata": {
    "id": "qgXboN5aN9MX"
   },
   "source": [
    "# Proximal Policy Optimization with Brax\n",
    "\n",
    "Proximal Policy Optimization (PPO) is an on-policy, model-free Reinforcement Learning algorithm.\n",
    "\n",
    "As a simulator of choice we use [Brax](https://github.com/google/brax), since it is written in JAX and supports several continuous-control environments. Also, it is blazingly fast!\n",
    "\n",
    "For particular details about PPO implementation, you can read the original [PPO paper from arxiv](https://arxiv.org/abs/1707.06347) or [this awesome article](https://iclr-blog-track.github.io/2022/03/25/ppo-implementation-details)\n",
    "\n",
    "\n",
    "!!! cite \"Reference\"\n",
    "```bibtex\n",
    "@misc{schulman2017proximal,\n",
    "      title={Proximal Policy Optimization Algorithms},\n",
    "      author={John Schulman and Filip Wolski and Prafulla Dhariwal and Alec Radford and Oleg Klimov},\n",
    "      year={2017},\n",
    "      eprint={1707.06347},\n",
    "      archivePrefix={arXiv},\n",
    "      primaryClass={cs.LG}\n",
    "}\n",
    "```\n"
   ]
  },
  {
   "cell_type": "markdown",
   "metadata": {
    "id": "AUKGhZ1WB_K-"
   },
   "source": [
    "Include all the libraries we need. In fact, we have only three dependencies: JAX, Brax and Equinox."
   ]
  },
  {
   "cell_type": "code",
   "execution_count": 1,
   "metadata": {
    "id": "sFx5yceozxFi",
    "colab": {
     "base_uri": "https://localhost:8080/"
    },
    "outputId": "3893f674-1c8d-4ce7-8d73-ab3525e5a838",
    "ExecuteTime": {
     "end_time": "2023-12-07T15:17:10.334786798Z",
     "start_time": "2023-12-07T15:17:09.062735088Z"
    }
   },
   "outputs": [],
   "source": [
    "# JAX, Autograd and XLA\n",
    "# GitHub: https://github.com/google/jax\n",
    "import jax\n",
    "from jax import lax\n",
    "from jax import random as jr\n",
    "from jax import numpy as jnp\n",
    "from jax import tree_util as jtu\n",
    "\n",
    "# Optax, optimizers for machine learning in JAX\n",
    "# GitHub: https://github.com/google-deepmind/optax\n",
    "import optax\n",
    "\n",
    "# Equinox, awesome library for (awesome) neural networks in JAX\n",
    "# GitHub: https://github.com/patrick-kidger/equinox\n",
    "# Arxiv: https://arxiv.org/abs/2111.00254\n",
    "import equinox as eqx\n",
    "\n",
    "# Brax, vectorized continuous RL environments, in JAX\n",
    "# GitHub: https://github.com/google/brax\n",
    "# Arxiv: https://arxiv.org/abs/2106.13281\n",
    "from brax import envs\n",
    "\n",
    "from collections.abc import Callable"
   ]
  },
  {
   "cell_type": "markdown",
   "metadata": {
    "id": "jTSLKsU-yyja"
   },
   "source": [
    "A few utility functions that are similar to other Equinox filtered wrappers.\n",
    "\n",
    "In the implementation we are constantly using lax.scan, and hence wrapping it, so that it can consume partially-static PyTrees seems nice."
   ]
  },
  {
   "cell_type": "code",
   "execution_count": 2,
   "metadata": {
    "id": "Ca2ekgyQD99U",
    "ExecuteTime": {
     "end_time": "2023-12-07T15:17:10.341023730Z",
     "start_time": "2023-12-07T15:17:10.338410126Z"
    }
   },
   "outputs": [],
   "source": [
    "# A few of utility functions, that automatically partition PyTrees\n",
    "\n",
    "\n",
    "@eqx.filter_jit\n",
    "def filter_scan(f: Callable, init, xs, *args, **kwargs):\n",
    "    \"\"\"Same as lax.scan, but allows to have eqx.Module in carry\"\"\"\n",
    "    init_dynamic_carry, static_carry = eqx.partition(init, eqx.is_array)\n",
    "\n",
    "    def to_scan(dynamic_carry, x):\n",
    "        carry = eqx.combine(dynamic_carry, static_carry)\n",
    "        new_carry, out = f(carry, x)\n",
    "        dynamic_new_carry, _ = eqx.partition(new_carry, eqx.is_array)\n",
    "        return dynamic_new_carry, out\n",
    "\n",
    "    out_carry, out_ys = lax.scan(to_scan, init_dynamic_carry, xs, *args, **kwargs)\n",
    "    return eqx.combine(out_carry, static_carry), out_ys\n",
    "\n",
    "\n",
    "@eqx.filter_jit\n",
    "def filter_cond(pred, true_f: Callable, false_f: Callable, *args):\n",
    "    \"\"\"Same as lax.cond, but allows to return eqx.Module\"\"\"\n",
    "    dynamic_true, static_true = eqx.partition(true_f(*args), eqx.is_array)\n",
    "    dynamic_false, static_false = eqx.partition(false_f(*args), eqx.is_array)\n",
    "\n",
    "    static_part = eqx.error_if(\n",
    "        static_true,\n",
    "        static_true != static_false,\n",
    "        \"Filtered conditional arguments should have the same static part\",\n",
    "    )\n",
    "\n",
    "    dynamic_part = lax.cond(pred, lambda *_: dynamic_true, lambda *_: dynamic_false)\n",
    "    return eqx.combine(dynamic_part, static_part)"
   ]
  },
  {
   "cell_type": "markdown",
   "metadata": {
    "id": "25TkGpz3zioH"
   },
   "source": [
    "A few useful dataclasses ..."
   ]
  },
  {
   "cell_type": "code",
   "execution_count": 3,
   "metadata": {
    "id": "KyUpyYNVuYQZ",
    "ExecuteTime": {
     "end_time": "2023-12-07T15:17:10.358759270Z",
     "start_time": "2023-12-07T15:17:10.343023649Z"
    }
   },
   "outputs": [],
   "source": [
    "class LogNormalDistribution(eqx.Module):\n",
    "    \"\"\"Multivariate Log Normal distribution with diagonal covariance\"\"\"\n",
    "\n",
    "    mean: jax.Array\n",
    "    log_std: jax.Array\n",
    "\n",
    "    def get_pdf(self, value):\n",
    "        value = eqx.error_if(\n",
    "            value,\n",
    "            value.shape != self.mean.shape,\n",
    "            \"Wrong shapes for the mean/value of action distr\",\n",
    "        )\n",
    "        value = eqx.error_if(\n",
    "            value,\n",
    "            value.shape != self.log_std.shape,\n",
    "            \"Wrong shapes for the std/value of action distr\",\n",
    "        )\n",
    "\n",
    "        normalized = (value - self.mean) / jnp.exp(self.log_std)\n",
    "        return jax.scipy.stats.norm.logpdf(normalized).sum()\n",
    "\n",
    "    def sample(self, key: jr.PRNGKey):\n",
    "        return jr.normal(key, self.mean.shape) * jnp.exp(self.log_std) + self.mean\n",
    "\n",
    "    def entropy(self):\n",
    "        return self.log_std.sum() * 0.5  # entropy without constant factor\n",
    "\n",
    "\n",
    "class Action(eqx.Module):\n",
    "    \"\"\"\n",
    "    Action class represents a single action taken by an agent.\n",
    "    Additionally stores some useful data.\n",
    "\n",
    "    raw: action that was a direct output of an Actor-Critic model\n",
    "    transformed: action that was applied on the environment\n",
    "    distr: distribution from which raw action was sampled\n",
    "    \"\"\"\n",
    "\n",
    "    raw: jax.Array = None\n",
    "    transformed: jax.Array = None\n",
    "    distr: LogNormalDistribution = None\n",
    "\n",
    "    def postprocess(self, apply: Callable):\n",
    "        return Action(\n",
    "            raw=self.raw, transformed=apply(self.transformed), distr=self.distr\n",
    "        )\n",
    "\n",
    "\n",
    "class ValueRange(eqx.Module):\n",
    "    low: jax.Array\n",
    "    high: jax.Array"
   ]
  },
  {
   "cell_type": "markdown",
   "metadata": {
    "id": "7IHRqFzZZp01"
   },
   "source": [
    "Let's make all the neural network classes. The approach is standard for Actor-Critic methods:\n",
    "* **Critic**, that estimates the TD residual (sum of discounted rewards for all the future), given the state (observation).\n",
    "* **Actor**, that outputs policy action given the state. In our implementation, **Actor** consists of the **MeanNetwork** that outputs mean of the action distribution given the current state, and the **log_std** parameter, that is trained, but does not depend on the state. This is an implementation detail: frequently, **log_std** is also predicted by a neural network, and depends on the state, but we decided to keep it a simple trainable parameter. The output of the **Actor** is an **Action** that contains the output distribution and the sampled action.\n",
    "* **ActorCritic** is just an abstraction, that allows to address both **Actor** and **Critic** via a single interface.\n",
    "\n",
    "\n",
    "Sizes of layers for all the MLPs (neural networks) are chosen arbitrarily; Feel free to change them and look at the effect on the performance :)"
   ]
  },
  {
   "cell_type": "code",
   "execution_count": 4,
   "metadata": {
    "id": "7EvryteDt91d",
    "ExecuteTime": {
     "end_time": "2023-12-07T15:17:10.403890815Z",
     "start_time": "2023-12-07T15:17:10.358210526Z"
    }
   },
   "outputs": [],
   "source": [
    "class Critic(eqx.Module):\n",
    "    \"\"\"MLP, that outputs the TD residual for the given state.\"\"\"\n",
    "\n",
    "    structure: list\n",
    "\n",
    "    def __init__(self, key: jr.PRNGKey, observation_size: int):\n",
    "        output_size = 1  # output is the value, TD residual, always a single output\n",
    "\n",
    "        key1, key2, key3, key4 = jr.split(key, 4)\n",
    "        self.structure = [\n",
    "            eqx.nn.Linear(observation_size, 64, key=key1),\n",
    "            jax.nn.tanh,\n",
    "            eqx.nn.Linear(64, 64, key=key2),\n",
    "            jax.nn.tanh,\n",
    "            eqx.nn.Linear(64, 64, key=key3),\n",
    "            jax.nn.tanh,\n",
    "            eqx.nn.Linear(64, output_size, key=key4),\n",
    "        ]\n",
    "\n",
    "    def __call__(self, x):\n",
    "        for operator in self.structure:\n",
    "            x = operator(x)\n",
    "        return x\n",
    "\n",
    "\n",
    "class MeanNetwork(eqx.Module):\n",
    "    \"\"\"MLP, that outputs a mean for the Action distribution, given state.\"\"\"\n",
    "\n",
    "    structure: list\n",
    "\n",
    "    def __init__(self, key: jr.PRNGKey, observation_size: int, action_size: int):\n",
    "        key1, key2, key3, key4 = jax.random.split(key, 4)\n",
    "        self.structure = [\n",
    "            eqx.nn.Linear(observation_size, 64, key=key1),\n",
    "            jax.nn.tanh,\n",
    "            eqx.nn.Linear(64, 64, key=key2),\n",
    "            jax.nn.tanh,\n",
    "            eqx.nn.Linear(64, 64, key=key3),\n",
    "            jax.nn.tanh,\n",
    "            eqx.nn.Linear(64, action_size, key=key4),\n",
    "        ]\n",
    "\n",
    "        # scaling down the weights of the output layer improves performance\n",
    "        self.structure = eqx.tree_at(\n",
    "            where=lambda s: s[-1].weight,\n",
    "            pytree=self.structure,\n",
    "            replace_fn=lambda weight: weight * 0.01,\n",
    "        )\n",
    "\n",
    "    def __call__(self, x):\n",
    "        for operator in self.structure:\n",
    "            x = operator(x)\n",
    "        return x\n",
    "\n",
    "\n",
    "class Actor(eqx.Module):\n",
    "    \"\"\"A module, that outputs action distribution for a particular state.\"\"\"\n",
    "\n",
    "    mean_network: MeanNetwork\n",
    "    log_std: jax.Array  # Trainable array\n",
    "\n",
    "    def __init__(\n",
    "        self,\n",
    "        key: jr.PRNGKey,\n",
    "        observation_size: int,\n",
    "        action_size: int,\n",
    "        initial_std: float,\n",
    "    ):\n",
    "        self.mean_network = MeanNetwork(key, observation_size, action_size)\n",
    "        self.log_std = jnp.ones((action_size,)) * jnp.log(initial_std)\n",
    "\n",
    "    def __call__(self, x):\n",
    "        return LogNormalDistribution(self.mean_network(x), self.log_std)\n",
    "\n",
    "\n",
    "class ActorCritic(eqx.Module):\n",
    "    \"\"\"Allows to use functionality of both Actor and Critic via the same entity.\"\"\"\n",
    "\n",
    "    obs_size: int = eqx.field(static=True)\n",
    "    act_size: int = eqx.field(static=True)\n",
    "    critic: Critic\n",
    "    actor: Actor\n",
    "\n",
    "    def __init__(\n",
    "        self,\n",
    "        key: jr.PRNGKey,\n",
    "        observation_size: int,\n",
    "        action_size: int,\n",
    "        initial_actor_std: float = 0.5,\n",
    "    ):\n",
    "        self.obs_size = observation_size\n",
    "        self.act_size = action_size\n",
    "\n",
    "        key1, key2 = jax.random.split(key, 2)\n",
    "        self.critic = Critic(key1, observation_size)\n",
    "        self.actor = Actor(key2, observation_size, action_size, initial_actor_std)\n",
    "\n",
    "    def get_value(self, observation):\n",
    "        return self.critic(observation)\n",
    "\n",
    "    def get_action(self, key: jr.PRNGKey, observation):\n",
    "        distr = self.actor(observation)\n",
    "        action = distr.sample(key)\n",
    "        return Action(raw=action, transformed=action, distr=distr)"
   ]
  },
  {
   "cell_type": "markdown",
   "metadata": {
    "id": "XLz0jK0Gc5kd"
   },
   "source": [
    "The next thing is wrappers for the Agent.\n",
    "\n",
    "One could think that all you need to train the model, one already has: indeed, you can train the **ActorCritic** by simply passing the observations from the environment, and then use the outputs as the actions.\n",
    "\n",
    "But, frequently, there are some problem-specific constraints on both observations/actions of the environment. Thus, it makes sense to preprocess the observations, before passing them to the **ActorCritic**, and postprocess the outputs, so that it is easier for underlying MLP to learn.\n",
    "\n",
    "* **BaseWrapper** is a parent class for any Wrapper. Any wrapper is some simple algorithm, that does pre- or postprocessing of the **ActorCritic** inputs and outputs.\n",
    "\n",
    "* **Agent** is a transparent wrapper, that allows to use **ActorCritic** as is, without any additional processing. It is needed so that there is the same interface for addressing the model with and without wrappers."
   ]
  },
  {
   "cell_type": "code",
   "execution_count": 5,
   "metadata": {
    "id": "-eiaCC5qv6Lo",
    "ExecuteTime": {
     "end_time": "2023-12-07T15:17:10.406495834Z",
     "start_time": "2023-12-07T15:17:10.363887415Z"
    }
   },
   "outputs": [],
   "source": [
    "class BaseWrapper(eqx.Module):\n",
    "    \"\"\"\n",
    "    Parent class of any wrapper.\n",
    "\n",
    "    next: the wrapper (or anything else) that is considered the next one.\n",
    "    params: persistent properties (parameters) of this particular wrapper.\n",
    "    \"\"\"\n",
    "\n",
    "    next: eqx.Module = None\n",
    "    params: eqx.Module = None\n",
    "\n",
    "    def get_trainable(self):\n",
    "        # returns a PyTree with the same structure as self,\n",
    "        # but every leaf except children of Actor-Critic are replaced by None\n",
    "        return eqx.filter(\n",
    "            self,\n",
    "            filter_spec=lambda x: isinstance(x, ActorCritic),\n",
    "            is_leaf=lambda x: isinstance(x, ActorCritic),\n",
    "        )\n",
    "\n",
    "    def get_obs_size(self):\n",
    "        return self.next.get_obs_size()\n",
    "\n",
    "    def get_act_size(self):\n",
    "        return self.next.get_act_size()\n",
    "\n",
    "    def set_next(self, new_next):\n",
    "        return eqx.tree_at(lambda wrapper: wrapper.next, self, new_next)\n",
    "\n",
    "    def get_action(self, key: jr.PRNGKey, observation):\n",
    "        out, new_next = self.next.get_action(key, observation)\n",
    "        return out, self.set_next(new_next)\n",
    "\n",
    "    def get_value(self, observation):\n",
    "        out, new_next = self.next.get_value(observation)\n",
    "        return out, self.set_next(new_next)\n",
    "\n",
    "    def config(self, **kwargs):\n",
    "        return self.set_next(self.next.config(**kwargs))\n",
    "\n",
    "\n",
    "class Agent(BaseWrapper):\n",
    "    \"\"\"\n",
    "    Transparent, unmutable wrapper.\n",
    "    Used so that even pure Actor-Critic can be used as a wrapper.\n",
    "    \"\"\"\n",
    "\n",
    "    def __init__(self, *args, **kwargs):\n",
    "        self.next = ActorCritic(*args, **kwargs)\n",
    "\n",
    "    def set_next(self, _):\n",
    "        # unmutable -> don't change the self.next\n",
    "        return self\n",
    "\n",
    "    def get_action(self, key: jr.PRNGKey, observation):\n",
    "        return self.next.get_action(key, observation), self\n",
    "\n",
    "    def get_value(self, observation):\n",
    "        return self.next.get_value(observation), self\n",
    "\n",
    "    def config(self, **kwargs):\n",
    "        return self\n",
    "\n",
    "    def get_obs_size(self):\n",
    "        return self.next.obs_size\n",
    "\n",
    "    def get_act_size(self):\n",
    "        return self.next.act_size"
   ]
  },
  {
   "cell_type": "markdown",
   "metadata": {
    "id": "tHTxpOAzg-pO"
   },
   "source": [
    "Frequently the distribution of observations is quite \"dispersed\": it can have large values, be centered not around zero, and so on. While the MLP should still be able to learn it, it will take much more time to converge to the solution. Thus, it is common to normalize observations: collect running mean and std of all the observations observed so far, and then, before passing them to the model, normalize them, so that the distribution of the input to the network (hopefully) follows standard Gaussian distribution. This is done by **ObservationNormalizingWrapper**.\n",
    "\n",
    "This allows the underlying model outputs to be invariant to the shifting/scaling of the observation distribution, which is quite a nice property."
   ]
  },
  {
   "cell_type": "code",
   "execution_count": 6,
   "metadata": {
    "id": "mn_NOyjBv2ni",
    "ExecuteTime": {
     "end_time": "2023-12-07T15:17:11.812980173Z",
     "start_time": "2023-12-07T15:17:10.368257019Z"
    }
   },
   "outputs": [],
   "source": [
    "class RunningStats(eqx.Module):\n",
    "    \"\"\"Stores/updates the parameters of the running distribution.\"\"\"\n",
    "\n",
    "    mean: jax.Array\n",
    "    M2: jax.Array  # sum of second moments of the samples (sum of variances)\n",
    "    n: jax.Array\n",
    "    size: int\n",
    "\n",
    "    # we are initializing n with two so that we don't get division by zero, ever\n",
    "    # this biases the running statistics, but not really that much\n",
    "    def __init__(self, size, mean=None, M2=None, n=jnp.int32(2)):\n",
    "        self.size = size\n",
    "        self.mean = (jnp.zeros(size)) if mean is None else mean\n",
    "        self.M2 = (jnp.zeros(size) + 1e-6) if M2 is None else M2\n",
    "        self.n = n\n",
    "\n",
    "    def process(self, obs):\n",
    "        std = jnp.sqrt(self.M2 / self.n)\n",
    "        std = eqx.error_if(\n",
    "            std,\n",
    "            std.shape != obs.shape,\n",
    "            \"Standard deviation should have the same shape as the observation, \"\n",
    "            + f\"std shape is {std.shape} but observation shape is {obs.shape}\",\n",
    "        )\n",
    "\n",
    "        # clip std, so that we don't get extreme values\n",
    "        std = jnp.clip(std, 1e-6, 1e6)\n",
    "\n",
    "        # clip the extreme outliers -> more stability during training.\n",
    "        # by Chebyshev inequality, ~99% of values are not clipped.\n",
    "        processed = jnp.clip((obs - self.mean) / std, -10, 10)\n",
    "\n",
    "        return processed, obs\n",
    "\n",
    "    def update_single(self, obs):\n",
    "        return self.update(obs[None, :])\n",
    "\n",
    "    def update(self, obs):\n",
    "        obs = eqx.error_if(\n",
    "            obs,\n",
    "            len(obs.shape) != 2 or obs.shape[1] != self.size,\n",
    "            f\"Batched observation should have the shape of (_, {self.size}),\"\n",
    "            + f\"but got {obs.shape}\",\n",
    "        )\n",
    "\n",
    "        n = self.n + obs.shape[0]\n",
    "\n",
    "        diff_to_old_mean = obs - self.mean\n",
    "        new_mean = self.mean + diff_to_old_mean.sum(axis=0) / n\n",
    "\n",
    "        diff_to_new_mean = obs - new_mean\n",
    "        var_upd = jnp.sum(diff_to_old_mean * diff_to_new_mean, axis=0)\n",
    "        M2 = self.M2 + var_upd\n",
    "\n",
    "        return RunningStats(self.size, mean=new_mean, M2=M2, n=n)\n",
    "\n",
    "\n",
    "class ObservationNormalizingWrapper(BaseWrapper):\n",
    "    \"\"\"Wrapper, that normalizes the observations during 'runtime'.\"\"\"\n",
    "\n",
    "    def __init__(self, next, params=None):\n",
    "        self.next = next\n",
    "        self.params = (\n",
    "            RunningStats(self.next.get_obs_size()) if params is None else params\n",
    "        )\n",
    "\n",
    "    def get_value(self, observation):\n",
    "        observation, updated_params = self.params.process(observation)\n",
    "        out, new_next = self.next.get_value(observation)\n",
    "        return out, ObservationNormalizingWrapper(new_next, updated_params)\n",
    "\n",
    "    def get_action(self, key: jr.PRNGKey, observation):\n",
    "        observation, updated_params = self.params.process(observation)\n",
    "        out, new_next = self.next.get_action(key, observation)\n",
    "        return out, ObservationNormalizingWrapper(new_next, updated_params)\n",
    "\n",
    "    def config(self, **kwargs):\n",
    "        params = self.params\n",
    "\n",
    "        if \"force_running_stats_update\" in kwargs:\n",
    "            params = self.params.update(kwargs.get(\"force_running_stats_update\"))\n",
    "\n",
    "        return ObservationNormalizingWrapper(self.next.config(**kwargs), params)"
   ]
  },
  {
   "cell_type": "markdown",
   "metadata": {
    "id": "r--AVKFcjCkV"
   },
   "source": [
    "When considering most of the environments, there are actions constraints that are present: if, for example, the action is the torque we apply, it cannot be very large, it is limited by physical properties of the system! But, since the values returned by **ActorCritic** has normal distribution, there is a non-zero probability of the sampled action to be larger than this \"physical\" limitation. To avoid this issue, we introduce action wrappers: both of them use a little bit different methods to constraint the output action norm.\n",
    "* **ActionTanhConstraintWrapper** is the most common action constraining method. It uses tanh as a \"smooth\" constraint, and then rescales it to the desired range. This method is nice, because there are non-zero gradients everywhere on the real domain, so the gradient descent have some idea in which direction is \"descent\".\n",
    "* **ActionExactConstraintWrapper** is the clipping action constraint. It simply clips the output action of the previous wrapper to the given range."
   ]
  },
  {
   "cell_type": "code",
   "execution_count": 7,
   "metadata": {
    "id": "dN2UM0U20IMU",
    "ExecuteTime": {
     "end_time": "2023-12-07T15:17:11.818035397Z",
     "start_time": "2023-12-07T15:17:11.816042106Z"
    }
   },
   "outputs": [],
   "source": [
    "class ActionTanhConstraintWrapper(BaseWrapper):\n",
    "    \"\"\"'Softly' constraints an action to the provided range.\"\"\"\n",
    "\n",
    "    def __init__(self, next, range_low=-1.0, range_high=1.0):\n",
    "        self.next = next\n",
    "        self.params = ValueRange(range_low, range_high)\n",
    "\n",
    "    def get_action(self, key: jr.PRNGKey, observation: jax.Array):\n",
    "        action, new_next = self.next.get_action(key, observation)\n",
    "\n",
    "        scale = self.params.high - self.params.low\n",
    "        offset = self.params.low\n",
    "        normalizing_function = lambda x: (jnp.tanh(x) / 2.0 + 0.5) * scale + offset\n",
    "        action = action.postprocess(normalizing_function)\n",
    "\n",
    "        return action, self.set_next(new_next)\n",
    "\n",
    "\n",
    "class ActionExactConstraintWrapper(BaseWrapper):\n",
    "    \"\"\"Clips an action to the given range.\"\"\"\n",
    "\n",
    "    def __init__(self, next, range_low, range_high):\n",
    "        self.next = next\n",
    "        self.params = ValueRange(range_low, range_high)\n",
    "\n",
    "    def get_action(self, key: jr.PRNGKey, observation):\n",
    "        action, new_next = self.next.get_action(key, observation)\n",
    "        action = action.postprocess(\n",
    "            lambda x: jnp.clip(x, self.range_low, self.range_high)\n",
    "        )\n",
    "        return action, self.set_next(new_next)"
   ]
  },
  {
   "cell_type": "markdown",
   "metadata": {
    "id": "mpRwALv9tKaj"
   },
   "source": [
    "The next two functions are needed to collect trajectories from the environment, provided \"policy\": a function that given an observation, returns the **Action** PyTree.\n"
   ]
  },
  {
   "cell_type": "code",
   "execution_count": 8,
   "metadata": {
    "id": "w8HiREHa-2ZF",
    "ExecuteTime": {
     "end_time": "2023-12-07T15:17:11.823452888Z",
     "start_time": "2023-12-07T15:17:11.819722694Z"
    }
   },
   "outputs": [],
   "source": [
    "def actor_step(key: jr.PRNGKey, env, env_state, policy: Callable, extra_fields):\n",
    "    \"\"\"Makes a single step with the provided policy in the environment.\"\"\"\n",
    "    keys_policy = jr.split(key, env_state.obs.shape[0])\n",
    "    action, _ = eqx.filter_vmap(policy)(keys_policy, env_state.obs)\n",
    "    next_state = env.step(env_state, action.transformed)\n",
    "\n",
    "    return next_state, Transition(\n",
    "        observation=env_state.obs,\n",
    "        action=action,\n",
    "        reward=next_state.reward,\n",
    "        next_observation=next_state.obs,\n",
    "        # extract requested additional fields\n",
    "        extras={x: next_state.info[x] for x in extra_fields},\n",
    "    )\n",
    "\n",
    "\n",
    "def generate_unroll(\n",
    "    key: jr.PRNGKey, env, env_state, policy: Callable, unroll_length, extra_fields\n",
    "):\n",
    "    \"\"\"Collects trajectories of given unroll length.\"\"\"\n",
    "\n",
    "    def f(carry, _):\n",
    "        current_key, state = carry\n",
    "        current_key, next_key = jr.split(current_key)\n",
    "\n",
    "        next_state, transition = actor_step(\n",
    "            current_key, env, state, policy, extra_fields=extra_fields\n",
    "        )\n",
    "        return (next_key, next_state), transition\n",
    "\n",
    "    (_, final_state), data = filter_scan(f, (key, env_state), (), length=unroll_length)\n",
    "    return final_state, data"
   ]
  },
  {
   "cell_type": "markdown",
   "metadata": {
    "id": "He6gadXhuSQZ"
   },
   "source": [
    "The **Evaluator** evaluates a given agent on the environment, providing quite a bit of interesting information about the results."
   ]
  },
  {
   "cell_type": "code",
   "execution_count": 9,
   "metadata": {
    "id": "T-7APS0ltH8j",
    "ExecuteTime": {
     "end_time": "2023-12-07T15:17:11.898150197Z",
     "start_time": "2023-12-07T15:17:11.825789403Z"
    }
   },
   "outputs": [],
   "source": [
    "import time\n",
    "\n",
    "\n",
    "class Evaluator:\n",
    "    \"\"\"\n",
    "    Evaluates agent on the environment.\n",
    "    It is not jittable, since run_evaluation needs time.time()\n",
    "    \"\"\"\n",
    "\n",
    "    def __init__(self, eval_env, agent, num_eval_envs, episode_length):\n",
    "        self._eval_walltime = 0.0\n",
    "        self.eval_env = envs.training.EvalWrapper(eval_env)\n",
    "        self.episode_length = episode_length\n",
    "        self.num_eval_envs = num_eval_envs\n",
    "        self._steps_per_unroll = episode_length * num_eval_envs\n",
    "\n",
    "    @eqx.filter_jit\n",
    "    def evaluate(self, key: jr.PRNGKey, agent):\n",
    "        reset_keys = jr.split(key, self.num_eval_envs)\n",
    "        eval_first_state = self.eval_env.reset(reset_keys)\n",
    "        return generate_unroll(\n",
    "            key,\n",
    "            self.eval_env,\n",
    "            eval_first_state,\n",
    "            agent.get_action,\n",
    "            unroll_length=self.episode_length,\n",
    "            extra_fields=(\"truncation\",),\n",
    "        )[0]\n",
    "\n",
    "    def run_evaluation(\n",
    "        self, key: jr.PRNGKey, agent, training_metrics, aggregate_episodes: bool = True\n",
    "    ):\n",
    "        t = time.time()\n",
    "        eval_state = self.evaluate(key, agent)\n",
    "        eval_metrics = eval_state.info[\"eval_metrics\"]\n",
    "        eval_metrics.active_episodes.block_until_ready()\n",
    "        epoch_eval_time = time.time() - t\n",
    "        metrics = {}\n",
    "        for fn in [jnp.mean, jnp.std]:\n",
    "            suffix = \"_std\" if fn == jnp.std else \"\"\n",
    "            metrics.update(\n",
    "                {\n",
    "                    f\"eval/episode_{name}{suffix}\": (\n",
    "                        fn(value) if aggregate_episodes else value\n",
    "                    )\n",
    "                    for name, value in eval_metrics.episode_metrics.items()\n",
    "                }\n",
    "            )\n",
    "        metrics[\"eval/avg_episode_length\"] = jnp.mean(eval_metrics.episode_steps)\n",
    "        metrics[\"eval/epoch_eval_time\"] = epoch_eval_time\n",
    "        metrics[\"eval/sps\"] = self._steps_per_unroll / epoch_eval_time\n",
    "        self._eval_walltime = self._eval_walltime + epoch_eval_time\n",
    "        metrics = {\"eval/walltime\": self._eval_walltime, **training_metrics, **metrics}\n",
    "\n",
    "        return metrics"
   ]
  },
  {
   "cell_type": "markdown",
   "metadata": {
    "id": "PQwtzmYhuwx7"
   },
   "source": [
    "The next functions are the core of the PPO algorithm: loss computation, and generalized advantage estimation.\n",
    "\n"
   ]
  },
  {
   "cell_type": "code",
   "execution_count": 10,
   "metadata": {
    "id": "vZK-JSgnqMnJ",
    "ExecuteTime": {
     "end_time": "2023-12-07T15:17:11.898422241Z",
     "start_time": "2023-12-07T15:17:11.866094410Z"
    }
   },
   "outputs": [],
   "source": [
    "@eqx.filter_jit\n",
    "def compute_gae(\n",
    "    truncation, rewards, values, bootstrap_value, gae_lambda, time_discount\n",
    "):\n",
    "    \"\"\"\n",
    "    Computes Generalized Advantage Estimation (GAE).\n",
    "    https://arxiv.org/abs/1506.02438 (formula 16)\n",
    "    \"\"\"\n",
    "\n",
    "    def to_scan(gae_t_plus_one, inputs):\n",
    "        delta_t, truncation_t = inputs\n",
    "        gae_t = gae_t_plus_one * time_discount * gae_lambda + delta_t\n",
    "        gae_t = gae_t * (1 - truncation_t)\n",
    "        return gae_t, gae_t\n",
    "\n",
    "    next_values = jnp.concatenate([values[1:], bootstrap_value], axis=0)\n",
    "    deltas = rewards + time_discount * next_values - values\n",
    "    _, advantages = lax.scan(to_scan, 0.0, (deltas, truncation), reverse=True)\n",
    "    return advantages + values, advantages\n",
    "\n",
    "\n",
    "@eqx.filter_jit\n",
    "def compute_loss(key: jr.PRNGKey, data, agent, params):\n",
    "    \"\"\"\n",
    "    Computes standard PPO loss on a single trajectory, with clipped surrogate objective.\n",
    "    https://arxiv.org/abs/1707.06347 (link to the PPO paper)\n",
    "    \"\"\"\n",
    "    key_actions = jr.split(key, data.observation.shape[0])\n",
    "\n",
    "    # the second returned value is updated agent (stacked unroll_length times)\n",
    "    new_actions, _ = eqx.filter_vmap(agent.get_action)(key_actions, data.observation)\n",
    "    baseline, _ = eqx.filter_vmap(agent.get_value)(data.observation)\n",
    "\n",
    "    baseline = eqx.error_if(\n",
    "        baseline,\n",
    "        baseline.shape != (params.unroll_length, 1),\n",
    "        f\"Baseline Values should have shape {(params.unroll_length, 1)}, \"\n",
    "        + f\"but got {baseline.shape}\",\n",
    "    )\n",
    "\n",
    "    # (unroll_length, 1) -> (unroll_length,)\n",
    "    baseline = baseline.reshape((params.unroll_length,))\n",
    "    bootstrap_value, _ = agent.get_value(data.next_observation[-1])\n",
    "\n",
    "    rewards = data.reward * params.reward_scaling\n",
    "    behaviour_actions = data.action\n",
    "\n",
    "    get_log_pdf_from_distr = lambda action, distr: distr.get_pdf(action)\n",
    "\n",
    "    # compute log of pdfs of the the old actions for new/old distributions\n",
    "    # we use \"raw\" actions, since they are directly sampled from the distributions\n",
    "    new_distr_log_pdf = eqx.filter_vmap(get_log_pdf_from_distr)(\n",
    "        behaviour_actions.raw, new_actions.distr\n",
    "    )\n",
    "    old_distr_log_pdf = eqx.filter_vmap(get_log_pdf_from_distr)(\n",
    "        behaviour_actions.raw, behaviour_actions.distr\n",
    "    )\n",
    "    # ratio of probabilities that the old (behavioural) action will be taken\n",
    "    rho = jnp.exp(new_distr_log_pdf - old_distr_log_pdf)\n",
    "\n",
    "    target_values, advantages = compute_gae(\n",
    "        truncation=data.extras[\"truncation\"],\n",
    "        rewards=rewards,\n",
    "        values=baseline,\n",
    "        bootstrap_value=bootstrap_value,\n",
    "        gae_lambda=params.gae_lambda,\n",
    "        time_discount=params.discounting,\n",
    "    )\n",
    "\n",
    "    # stop gradients for numerical stability, and since they are \"meaningless\"\n",
    "    # the point is that we train with respect to these parameters,\n",
    "    # and allowing them too to be trainable too leads to weird results\n",
    "    target_values = lax.stop_gradient(target_values)\n",
    "    advantages = lax.stop_gradient(advantages)\n",
    "\n",
    "    # compute clipped policy loss\n",
    "    surrogate_loss1 = rho * advantages\n",
    "    surrogate_loss2 = (\n",
    "        jnp.clip(rho, 1 - params.clipping_epsilon, 1 + params.clipping_epsilon)\n",
    "        * advantages\n",
    "    )\n",
    "    policy_loss = -jnp.mean(jnp.minimum(surrogate_loss1, surrogate_loss2))\n",
    "\n",
    "    # compute value loss\n",
    "    v_error = target_values - baseline\n",
    "    v_loss = jnp.mean(v_error * v_error) * params.value_loss_factor\n",
    "\n",
    "    # and finally, the entropy loss (we encourage higher entropy)\n",
    "    entropy = jnp.mean(new_actions.distr.entropy())\n",
    "    entropy_loss = params.entropy_cost * -entropy\n",
    "\n",
    "    # sum all the losses up\n",
    "    total_loss = policy_loss + v_loss + entropy_loss\n",
    "    return total_loss, {\n",
    "        \"total_loss\": total_loss,\n",
    "        \"rho\": rho,\n",
    "        \"p_loss\": policy_loss,\n",
    "        \"v_loss\": v_loss,\n",
    "        \"entropy_loss\": entropy_loss,\n",
    "    }"
   ]
  },
  {
   "cell_type": "markdown",
   "metadata": {
    "id": "YNgDezLArFGy"
   },
   "source": [
    "The **sgd_step** does not do a single SGD step. It does a bunch of optimizer steps on the minibatches.\n",
    "\n",
    "Most importantly, there are tree things that this function does:\n",
    "\n",
    "1. The passed data is shuffled, and partitioned into minibatches.\n",
    "2. The mean loss over each of the minibatches is computed.\n",
    "3. Using reverse autodiff (**eqx.filter_value_and_grad**), the gradients are computed, and we update the agent.\n",
    "\n",
    "It is important to note that we collect some metrics (a dictionary with some info) throughout training, that are averaged for every SGD step."
   ]
  },
  {
   "cell_type": "code",
   "execution_count": 11,
   "metadata": {
    "id": "cJunuMFL2sfm",
    "ExecuteTime": {
     "end_time": "2023-12-07T15:17:11.898529950Z",
     "start_time": "2023-12-07T15:17:11.866350615Z"
    }
   },
   "outputs": [],
   "source": [
    "@eqx.filter_jit\n",
    "def clip_by_norm(x, max_norm=1.0):\n",
    "    \"\"\"Clips the norm of the vector, with some whistles\"\"\"\n",
    "    max_norm = eqx.error_if(max_norm, max_norm < 0, \"Clip norm should be non-negative\")\n",
    "    norm = lax.cond(\n",
    "        jnp.array_equal(x, jnp.zeros_like(x)),\n",
    "        lambda *_: jnp.float32(1.0),\n",
    "        lambda *_: jnp.linalg.norm(x),\n",
    "    )\n",
    "    return x * jnp.minimum(max_norm / norm, 1.0)\n",
    "\n",
    "\n",
    "@eqx.filter_jit\n",
    "def sgd_step(key: jr.PRNGKey, optimizer, agent, data, params):\n",
    "    key_perm, key_grad = jr.split(key)\n",
    "\n",
    "    def convert_data(x: jax.Array):\n",
    "        \"\"\"Shuffles input data, and partitions in into the minibatches\"\"\"\n",
    "        x = jr.permutation(key_perm, x)\n",
    "        x = jnp.reshape(x, (params.num_minibatches, -1) + x.shape[1:])\n",
    "        return x\n",
    "\n",
    "    shuffled_data = jtu.tree_map(convert_data, data)\n",
    "\n",
    "    # check that the shapetor is correct\n",
    "    desired_shape = (params.num_minibatches, params.batch_size, params.unroll_length)\n",
    "    shuffled_data = eqx.error_if(\n",
    "        shuffled_data,\n",
    "        shuffled_data.observation.shape[:-1] != desired_shape,\n",
    "        f\"Minibatch data shape is wrong, should be {desired_shape} \"\n",
    "        + f\"but was {shuffled_data.observation.shape[:-1]}\",\n",
    "    )\n",
    "\n",
    "    def minibatch_step_to_scan(carry, data):\n",
    "        key, optimizer, agent = carry\n",
    "        key_next, key_loss = jr.split(key)\n",
    "\n",
    "        def batched_loss(agent, data):\n",
    "            loss_f = lambda data, agent: compute_loss(key_loss, data, agent, params)\n",
    "            loss_value, metrics = eqx.filter_vmap(loss_f, in_axes=(0, None))(\n",
    "                data, agent\n",
    "            )\n",
    "            # we waste less memory by computing mean for everything in metrics\n",
    "            return loss_value.mean(), jtu.tree_map(lambda x: x.mean(axis=0), metrics)\n",
    "\n",
    "        get_value_and_grad = eqx.filter_value_and_grad(\n",
    "            jtu.Partial(batched_loss, data=data), has_aux=True\n",
    "        )\n",
    "        (loss, metrics), grads = get_value_and_grad(agent)\n",
    "\n",
    "        # gradient clipping -> more stable training\n",
    "        def filter_and_clip_grads(grad, trainable):\n",
    "            # making sure that we update only trainable stuff\n",
    "            # since grads are also computed for all the wrappers params\n",
    "            # which breaks optax\n",
    "            if grad is None or trainable is None:\n",
    "                return None\n",
    "            return clip_by_norm(grad, params.max_gradient_norm)\n",
    "\n",
    "        grads = jtu.tree_map(filter_and_clip_grads, grads, agent.get_trainable())\n",
    "\n",
    "        updates, new_optimizer = optimizer.update(grads)\n",
    "        new_agent = eqx.apply_updates(agent, updates)\n",
    "\n",
    "        return (key_next, new_optimizer, new_agent), metrics\n",
    "\n",
    "    (_, new_optimizer, new_agent), metrics = filter_scan(\n",
    "        minibatch_step_to_scan,\n",
    "        (key_grad, optimizer, agent),\n",
    "        shuffled_data,\n",
    "        length=params.num_minibatches,\n",
    "    )\n",
    "\n",
    "    return new_optimizer, new_agent, jtu.tree_map(lambda x: x.mean(axis=0), metrics)"
   ]
  },
  {
   "cell_type": "markdown",
   "metadata": {
    "id": "wTzKcpE7nT-S"
   },
   "source": [
    "**training_step** is quite a long function, but what it does is quite simple.\n",
    "\n",
    "It consists of three meaningful parts:\n",
    "* Collection of **batch_size** number of trajectories of **unroll_length** length from the provided environment, with the current policy. The agent remains constant throughout the collection of the trajectory.\n",
    "* Split of the collected data into a convenient shape, which is (a lot, **unroll_length**), so that later we can vmap or map over the zero-th axis, and the mapped function will get just a single trajectory.\n",
    "* Update of the agent. We do an optimizer step on the computed PPO loss, and then we update the observation normalizing wrapper with just collected trajectories data. The running statistics is updated in a batch since it is easier, and it does not hurt performance much."
   ]
  },
  {
   "cell_type": "code",
   "execution_count": 12,
   "metadata": {
    "id": "9gBOauWYRThH",
    "ExecuteTime": {
     "end_time": "2023-12-07T15:17:11.898624799Z",
     "start_time": "2023-12-07T15:17:11.866622128Z"
    }
   },
   "outputs": [],
   "source": [
    "@eqx.filter_jit\n",
    "def training_step(carry, _, params):\n",
    "    key, training_state = carry\n",
    "    key_sgd, key_generate_unroll, key_next = jr.split(key, 3)\n",
    "\n",
    "    agent = training_state.agent\n",
    "    env = training_state.env\n",
    "\n",
    "    # wrap the functions, so that lax.scan can use them\n",
    "    def unroll_to_scan(carry, _):\n",
    "        key_unroll, state, policy = carry\n",
    "        key_unroll, next_key = jr.split(key_unroll)\n",
    "\n",
    "        next_state, generated = generate_unroll(\n",
    "            key_unroll,\n",
    "            env.env,\n",
    "            state,\n",
    "            policy,\n",
    "            params.unroll_length,\n",
    "            extra_fields=(\"truncation\",)\n",
    "            # truncation is the signal that environment evaluation has finished\n",
    "            # in this case we 'reset' the advantage computation\n",
    "        )\n",
    "        return (next_key, next_state, policy), generated\n",
    "\n",
    "    def sgd_step_to_scan(carry, _):\n",
    "        key_sgd, optimizer, agent = carry\n",
    "        key_sgd, next_key = jr.split(key_sgd)\n",
    "\n",
    "        new_opt, new_ag, metrics = sgd_step(key_sgd, optimizer, agent, data, params)\n",
    "        return (next_key, new_opt, new_ag), metrics\n",
    "\n",
    "    # generate unroll with the current policy\n",
    "    (_, new_env_state, *_), data = filter_scan(\n",
    "        unroll_to_scan,\n",
    "        (key_generate_unroll, env.state, agent.get_action),\n",
    "        (),\n",
    "        length=params.num_minibatches,\n",
    "    )\n",
    "\n",
    "    # transform all the data from the unroll into more convenient shape\n",
    "    data = jtu.tree_map(lambda x: jnp.swapaxes(x, 1, 2), data)\n",
    "    data = jtu.tree_map(lambda x: jnp.reshape(x, (-1,) + x.shape[2:]), data)\n",
    "\n",
    "    # check the correctness of the shape\n",
    "    target_data_shape = (\n",
    "        params.batch_size * params.num_minibatches,\n",
    "        params.unroll_length,\n",
    "        params.env.observation_size,\n",
    "    )\n",
    "    data = eqx.error_if(\n",
    "        data,\n",
    "        data.observation.shape != target_data_shape,\n",
    "        f\"Reshaped unroll data (observation) must have shape of \"\n",
    "        f\"{target_data_shape} but had {data.observation.shape}\",\n",
    "    )\n",
    "\n",
    "    # optimize the model, do a few optimizer steps\n",
    "    (_, new_optimizer, new_agent), metrics = filter_scan(\n",
    "        sgd_step_to_scan,\n",
    "        (key_sgd, training_state.optimizer, agent),\n",
    "        (),\n",
    "        length=params.num_updates_per_batch,\n",
    "    )\n",
    "\n",
    "    # update the normalizing wrapper with collected observations\n",
    "    reshaped_data = data.observation.reshape(-1, data.observation.shape[-1])\n",
    "    new_agent = new_agent.config(force_running_stats_update=reshaped_data)\n",
    "\n",
    "    # the first training iteration used only to update observation normalizing wrapper\n",
    "    # otherwise the first step would be random\n",
    "    get_new = lambda *_: (new_optimizer, new_agent)\n",
    "    get_old = lambda *_: (training_state.optimizer, training_state.agent)\n",
    "    new_optimizer, new_agent = filter_cond(env.steps_done != 0, get_new, get_old)\n",
    "\n",
    "    env_steps_made = params.batch_size * params.num_minibatches * params.unroll_length\n",
    "\n",
    "    # construct new training state, with all the updated stuff\n",
    "    new_training_state = TrainingState(\n",
    "        optimizer=new_optimizer,\n",
    "        agent=new_agent,\n",
    "        env=Environment(env.env, new_env_state, env.steps_done + env_steps_made),\n",
    "    )\n",
    "    return (key_next, new_training_state), metrics"
   ]
  },
  {
   "cell_type": "markdown",
   "metadata": {
    "id": "6C2Z4QV1m8R8"
   },
   "source": [
    "**training_epoch** not only runs a bunch of **training_steps**, but it also figures out the number of **training_steps** to run judging by the required number of timesteps that we want to train for, and other parameters."
   ]
  },
  {
   "cell_type": "code",
   "execution_count": 13,
   "metadata": {
    "id": "tQTzozRx_JET",
    "ExecuteTime": {
     "end_time": "2023-12-07T15:17:11.898736593Z",
     "start_time": "2023-12-07T15:17:11.868638374Z"
    }
   },
   "outputs": [],
   "source": [
    "@eqx.filter_jit\n",
    "def training_epoch(key: jr.PRNGKey, training_state, params):\n",
    "    env_step_per_training_step = (\n",
    "        params.batch_size * params.unroll_length * params.num_minibatches\n",
    "    )\n",
    "    num_evals_after_init = params.num_evals - 1 if params.num_evals > 1 else 1\n",
    "    num_training_steps_per_epoch = 1 + params.num_timesteps // (\n",
    "        num_evals_after_init * env_step_per_training_step\n",
    "    )\n",
    "\n",
    "    (_, training_state), metrics = filter_scan(\n",
    "        jtu.Partial(training_step, params=params),\n",
    "        (key, training_state),\n",
    "        (),\n",
    "        length=num_training_steps_per_epoch,\n",
    "    )\n",
    "\n",
    "    return training_state, metrics"
   ]
  },
  {
   "cell_type": "markdown",
   "metadata": {
    "id": "M3g_GuWhqFbW"
   },
   "source": [
    "We can define a dataclass, that contains all the parameters of the training algorithm. This class allows to introduce new parameters easily, change (some) parameters without JAX triggering retracing of everything, and overall it is much more convenient to pass them as an argument to a function."
   ]
  },
  {
   "cell_type": "code",
   "execution_count": 14,
   "metadata": {
    "id": "mNi-B8el_gAR",
    "ExecuteTime": {
     "end_time": "2023-12-07T15:17:11.898827751Z",
     "start_time": "2023-12-07T15:17:11.893100255Z"
    }
   },
   "outputs": [],
   "source": [
    "class HyperParameters(eqx.Module):\n",
    "    \"\"\"All the parameters for the algorithm you will ever need.\"\"\"\n",
    "\n",
    "    # parameters that are forcefully static, and you are not allowed to change them,\n",
    "    # unless you really want to retrace most of the jitted functions\n",
    "    env: envs.Env = eqx.field(static=True)\n",
    "    episode_length: int = eqx.field(static=True)\n",
    "\n",
    "    num_timesteps: int = eqx.field(default=30_000_000, static=True)\n",
    "    seed: int = eqx.field(default=0, static=True)\n",
    "    num_evals: int = eqx.field(default=10, static=True)\n",
    "\n",
    "    # parameters that are 'changeable' throughout training.\n",
    "    # Does not mean that you should change them :)\n",
    "    learning_rate: float = 1e-4\n",
    "    clipping_epsilon: float = 0.2\n",
    "    batch_size: int = 32\n",
    "    eval_batch_size: int = 16\n",
    "    entropy_cost: float = 0\n",
    "    discounting: float = 0.99\n",
    "    gae_lambda: float = 0.95\n",
    "    num_updates_per_batch: int = 2\n",
    "    num_minibatches: int = 16\n",
    "    unroll_length: int = 10\n",
    "    reward_scaling: float = 1.0\n",
    "    max_gradient_norm: float = 0.5\n",
    "    value_loss_factor: float = 0.25"
   ]
  },
  {
   "cell_type": "markdown",
   "metadata": {
    "id": "tvsjfBo4knPa"
   },
   "source": [
    "Define some other utility dataclasses.\n",
    "\n",
    "Besides, passing a single PyTree to the function is much nicer than passing 10 millions variables, isn't it?"
   ]
  },
  {
   "cell_type": "code",
   "execution_count": 15,
   "metadata": {
    "id": "BWIacWU6kmmb",
    "ExecuteTime": {
     "end_time": "2023-12-07T15:17:11.898955095Z",
     "start_time": "2023-12-07T15:17:11.893368875Z"
    }
   },
   "outputs": [],
   "source": [
    "class Transition(eqx.Module):\n",
    "    \"\"\"Represents a transition between two adjacent environment states.\"\"\"\n",
    "\n",
    "    observation: jax.Array  # observation on the current state\n",
    "    action: Action  # action that was taken on the current state\n",
    "    reward: float  # reward, that was given as the result of the action\n",
    "    next_observation: jax.Array  # next observation\n",
    "    extras: dict  # any simulator-extracted hints, like end of episode signal\n",
    "\n",
    "\n",
    "class Optimizer(eqx.Module):\n",
    "    \"\"\"An optax optimizer wrapped with its state together.\"\"\"\n",
    "\n",
    "    optimizer: optax.GradientTransformation = eqx.field(static=True)\n",
    "    state: optax.OptState\n",
    "\n",
    "    def update(self, grads):\n",
    "        out_updates, new_state = self.optimizer.update(grads, self.state)\n",
    "        return out_updates, Optimizer(self.optimizer, new_state)\n",
    "\n",
    "\n",
    "class Environment(eqx.Module):\n",
    "    \"\"\"A Brax environment, wrapped with its state and step counter together.\"\"\"\n",
    "\n",
    "    env: envs.base.Env = eqx.field(static=True)\n",
    "    state: envs.base.State\n",
    "    steps_done: jax.Array = eqx.field(default=0, converter=jnp.asarray)\n",
    "\n",
    "\n",
    "class TrainingState(eqx.Module):\n",
    "    optimizer: Optimizer\n",
    "    agent: Agent\n",
    "    env: Environment"
   ]
  },
  {
   "cell_type": "markdown",
   "metadata": {
    "id": "qTXzeqZJk97i"
   },
   "source": [
    "The main **train** function is quite simple, just initialize some brax-wrapped environments, some variables, some states, and then just run **training_epoch** a few times.\n",
    "\n",
    "**train** is not JIT-traced, so that user-defined **progress** can do anything: printing something, logging to wandb, plotting graphs, etc."
   ]
  },
  {
   "cell_type": "code",
   "execution_count": 16,
   "metadata": {
    "id": "xs87w2hQKDAn",
    "ExecuteTime": {
     "end_time": "2023-12-07T15:17:11.899061126Z",
     "start_time": "2023-12-07T15:17:11.893532903Z"
    }
   },
   "outputs": [],
   "source": [
    "def train(agent, params, progress=lambda *_: None):\n",
    "    key = jr.PRNGKey(params.seed)\n",
    "    key_local, key_env = jr.split(key, 2)\n",
    "\n",
    "    env = envs.training.wrap(params.env, episode_length=params.episode_length)\n",
    "    reset_fn = jax.jit(env.reset)\n",
    "\n",
    "    # we are using Adam, since, well, everybody uses Adam\n",
    "    optimizer = optax.adam(learning_rate=params.learning_rate)\n",
    "    trainable_agent_arrays = eqx.filter(agent.get_trainable(), eqx.is_array)\n",
    "    key_envs = jr.split(key_env, params.batch_size)\n",
    "\n",
    "    training_state = TrainingState(\n",
    "        optimizer=Optimizer(optimizer, optimizer.init(trainable_agent_arrays)),\n",
    "        agent=agent,\n",
    "        env=Environment(env, reset_fn(key_envs), steps_done=0),\n",
    "    )\n",
    "\n",
    "    evaluator = Evaluator(\n",
    "        env,\n",
    "        agent,\n",
    "        num_eval_envs=params.eval_batch_size,\n",
    "        episode_length=params.episode_length,\n",
    "    )\n",
    "\n",
    "    # run very first eval before any training\n",
    "    metrics = {}\n",
    "    if params.num_evals > 1:\n",
    "        metrics = evaluator.run_evaluation(\n",
    "            key, training_state.agent, training_metrics={}\n",
    "        )\n",
    "        progress(0, metrics)\n",
    "\n",
    "    num_of_epochs = max(params.num_evals - 1, 1)\n",
    "    for it in range(num_of_epochs):\n",
    "        # update the keys\n",
    "        key_epoch, key_local, key_eval = jr.split(key_local, 3)\n",
    "\n",
    "        # train\n",
    "        training_state, training_metrics = training_epoch(\n",
    "            key_epoch, training_state, params\n",
    "        )\n",
    "\n",
    "        # reset the environment state\n",
    "        key_envs = jr.split(key_local, params.batch_size)\n",
    "        training_state = eqx.tree_at(\n",
    "            where=lambda t: t.env.state,\n",
    "            pytree=training_state,\n",
    "            replace=reset_fn(key_envs),\n",
    "        )\n",
    "\n",
    "        # update metrics\n",
    "        metrics = evaluator.run_evaluation(\n",
    "            key_eval, training_state.agent, training_metrics\n",
    "        )\n",
    "        progress(training_state.env.steps_done, metrics)\n",
    "\n",
    "    return (training_state.agent, metrics)"
   ]
  },
  {
   "cell_type": "markdown",
   "metadata": {
    "id": "OiJVXNk4l6bv"
   },
   "source": [
    "Now, just initialize the environment, agent, and run the train function!"
   ]
  },
  {
   "cell_type": "code",
   "execution_count": 17,
   "metadata": {
    "colab": {
     "base_uri": "https://localhost:8080/",
     "height": 787
    },
    "id": "76O4DFbHNDL1",
    "outputId": "073a6544-d350-43df-dcc0-db07345b8648"
   },
   "outputs": [
    {
     "data": {
      "text/plain": "<Figure size 640x480 with 1 Axes>",
      "image/png": "[encoded data removed]"
     },
     "metadata": {},
     "output_type": "display_data"
    },
    {
     "name": "stdout",
     "output_type": "stream",
     "text": [
      "Training (and tracing) done in 201.78 seconds\n"
     ]
    }
   ],
   "source": [
    "import matplotlib.pyplot as plt #Alright, I lied, we also need matplotlib as the dependency...\n",
    "from IPython.display import clear_output\n",
    "from dill import dump, load\n",
    "\n",
    "env = envs.create(env_name=\"ant\", backend=\"spring\")\n",
    "agent = Agent(jr.PRNGKey(42), env.observation_size, env.action_size)\n",
    "agent = ObservationNormalizingWrapper(agent)\n",
    "agent = ActionTanhConstraintWrapper(agent, range_low=-1.0, range_high=1.0)\n",
    "\n",
    "xdata, ydata = [], []\n",
    "\n",
    "def progress(step_num, metrics):\n",
    "  xdata.append(step_num)\n",
    "  ydata.append(metrics[\"eval/episode_reward\"])\n",
    "  clear_output(wait=True)\n",
    "\n",
    "  plt.xlim([0, 40_000_000])\n",
    "  plt.ylim([0, 4000])\n",
    "  plt.xlabel(\"# environment steps\")\n",
    "  plt.ylabel(\"reward per episode\")\n",
    "\n",
    "  plt.plot(xdata, ydata, \"b\")\n",
    "  plt.show()\n",
    "\n",
    "\n",
    "t0 = time.time()\n",
    "\n",
    "agent, metrics = train(\n",
    "  agent,\n",
    "  params=HyperParameters(\n",
    "      env=env,\n",
    "      num_timesteps=40_000_000,\n",
    "      num_evals=10,\n",
    "      reward_scaling=0.1,\n",
    "      episode_length=1000,\n",
    "      unroll_length=5,\n",
    "      num_minibatches=32,\n",
    "      num_updates_per_batch=4,\n",
    "      discounting=0.99,\n",
    "      learning_rate=3e-4,\n",
    "      entropy_cost=1e-3,\n",
    "      batch_size=1024,\n",
    "      eval_batch_size=256,\n",
    "      gae_lambda=0.97,\n",
    "      max_gradient_norm=1.0,\n",
    "      clipping_epsilon=0.3,\n",
    "  ),\n",
    "  progress=progress,\n",
    ")\n",
    "\n",
    "print(f\"Training (and tracing) done in {time.time() - t0:.2f} seconds\")"
   ]
  },
  {
   "cell_type": "code",
   "execution_count": null,
   "outputs": [],
   "source": [
    "class GHyps(eqx.Module):\n",
    "    "
   ],
   "metadata": {
    "collapsed": false
   }
  },
  {
   "cell_type": "code",
   "execution_count": null,
   "outputs": [],
   "source": [
    "env = envs.create(env_name=\"ant\", backend=\"spring\")\n",
    "agent = Agent(jr.PRNGKey(42), env.observation_size, env.action_size)\n",
    "agent = ObservationNormalizingWrapper(agent)\n",
    "agent = ActionTanhConstraintWrapper(agent, range_low=-1.0, range_high=1.0)\n",
    "\n",
    "xdata, ydata = [], []\n",
    "\n",
    "def progress(step_num, metrics):\n",
    "    xdata.append(step_num)\n",
    "    ydata.append(metrics[\"eval/episode_reward\"])\n",
    "    clear_output(wait=True)\n",
    "\n",
    "    plt.xlim([0, 40_000_000])\n",
    "    plt.ylim([0, 4000])\n",
    "    plt.xlabel(\"# environment steps\")\n",
    "    plt.ylabel(\"reward per episode\")\n",
    "\n",
    "    plt.plot(xdata, ydata, \"b\")\n",
    "    plt.show()\n",
    "\n",
    "\n",
    "t0 = time.time()\n",
    "\n",
    "agent, metrics = train(\n",
    "    agent,\n",
    "    params=HyperParameters(\n",
    "        env=env,\n",
    "        num_timesteps=40_000_000,\n",
    "        num_evals=10,\n",
    "        reward_scaling=0.1,\n",
    "        episode_length=1000,\n",
    "        unroll_length=5,\n",
    "        num_minibatches=32,\n",
    "        num_updates_per_batch=4,\n",
    "        discounting=0.99,\n",
    "        learning_rate=3e-4,\n",
    "        entropy_cost=1e-3,\n",
    "        batch_size=1024,\n",
    "        eval_batch_size=256,\n",
    "        gae_lambda=0.97,\n",
    "        max_gradient_norm=1.0,\n",
    "        clipping_epsilon=0.3,\n",
    "    ),\n",
    "    progress=progress,\n",
    ")\n",
    "\n",
    "print(f\"Training (and tracing) done in {time.time() - t0:.2f} seconds\")\n"
   ],
   "metadata": {
    "collapsed": false
   }
  },
  {
   "cell_type": "code",
   "source": [
    "from tqdm import tqdm as tqdm"
   ],
   "metadata": {
    "id": "VaGLUBqW6btq",
    "ExecuteTime": {
     "end_time": "2023-11-26T14:18:15.533615286Z",
     "start_time": "2023-11-26T14:18:15.472155260Z"
    }
   },
   "execution_count": 18,
   "outputs": []
  },
  {
   "cell_type": "code",
   "source": [
    "\n",
    "agent_r = Agent(jr.PRNGKey(42), env.observation_size, env.action_size)\n",
    "agent_r = ObservationNormalizingWrapper(agent_r)\n",
    "agent_r = ActionTanhConstraintWrapper(agent_r, range_low=-1.0, range_high=1.0)"
   ],
   "metadata": {
    "id": "n163hbKqnHAM",
    "ExecuteTime": {
     "end_time": "2023-11-26T14:18:15.978790411Z",
     "start_time": "2023-11-26T14:18:15.477925704Z"
    }
   },
   "execution_count": 19,
   "outputs": []
  },
  {
   "cell_type": "markdown",
   "source": [
    "Now, lets look at the gradients of the simulation for different numbers of steps"
   ],
   "metadata": {
    "id": "T72SB7vCHRWT"
   }
  },
  {
   "cell_type": "code",
   "source": [
    "env = envs.create(env_name=\"ant\", backend=\"spring\")\n",
    "episode_length = 1000\n",
    "env = envs.training.wrap(env, episode_length=episode_length)\n",
    "env = envs.training.EvalWrapper(env)\n",
    "\n",
    "def actor_step_gradded(key: jr.PRNGKey, env, env_state, policy: Callable, extra_fields):\n",
    "    \"\"\"Makes a single step with the provided policy in the environment.\"\"\"\n",
    "    keys_policy = jr.split(key, env_state.obs.shape[0])\n",
    "    action, _ = eqx.filter_vmap(policy)(keys_policy, env_state.obs)\n",
    "    print(env_state.info)\n",
    "    next_state = env.step(env_state, action.transformed)\n",
    "\n",
    "    return next_state, Transition(\n",
    "        observation=env_state.obs,\n",
    "        action=action,\n",
    "        reward=next_state.reward,\n",
    "        next_observation=next_state.obs,\n",
    "        # extract requested additional fields\n",
    "        extras={x: next_state.info[x] for x in extra_fields},\n",
    "    )\n",
    "\n",
    "def generate_unroll_gradded(\n",
    "    key: jr.PRNGKey, env, env_state, policy: Callable, gradded_policy, unroll_length, extra_fields\n",
    "):\n",
    "    \"\"\"Collects trajectories of given unroll length.\"\"\"\n",
    "\n",
    "    def f(carry, _):\n",
    "        current_key, state = carry\n",
    "        current_key, next_key = jr.split(current_key)\n",
    "\n",
    "        next_state, transition = actor_step_gradded(\n",
    "            current_key, env, state, policy, extra_fields=extra_fields\n",
    "        )\n",
    "        return (next_key, next_state), transition\n",
    "    gradded_env_state, _transition = actor_step_gradded(key, env, env_state, gradded_policy, extra_fields)\n",
    "    (_, final_state), data = filter_scan(f, (key, gradded_env_state), (), length=unroll_length-1)\n",
    "    return final_state, data\n",
    "\n",
    "@eqx.filter_jit\n",
    "def eval(delta, env, agent, key, N=32, episode_length=1000):\n",
    "  old_value = agent.next.next.next.actor.mean_network.structure[0].weight\n",
    "  zeroholder = jnp.zeros_like(agent.next.next.next.actor.mean_network.structure[0].weight)\n",
    "  zeroholder = zeroholder.at[5,7].set(delta)\n",
    "  new_agent = eqx.tree_at(where=lambda a: a.next.next.next.actor.mean_network.structure[0].weight, pytree=agent, replace=old_value + zeroholder)\n",
    "  reset_keys = jr.split(key, N)\n",
    "  eval_first_state = env.reset(reset_keys)\n",
    "  return generate_unroll_gradded(\n",
    "      key,\n",
    "      env,\n",
    "      eval_first_state,\n",
    "      agent.get_action,\n",
    "      new_agent.get_action,\n",
    "      unroll_length=episode_length,\n",
    "      extra_fields=(\"truncation\",),\n",
    "  )[0].info['eval_metrics'].episode_metrics['reward'].mean()\n"
   ],
   "metadata": {
    "id": "pvnCJEUFHQt1",
    "ExecuteTime": {
     "end_time": "2023-11-26T14:18:16.020494429Z",
     "start_time": "2023-11-26T14:18:15.983273420Z"
    }
   },
   "execution_count": 20,
   "outputs": []
  },
  {
   "cell_type": "code",
   "source": [
    "  def generate_unroll_mag(\n",
    "    key: jr.PRNGKey, env, env_state, agent, deltas, unroll_length, extra_fields\n",
    "):\n",
    "    def f(carry, delta_i):\n",
    "        current_key, state = carry\n",
    "        current_key, next_key = jr.split(current_key)\n",
    "\n",
    "        old_value = agent.next.next.next.actor.mean_network.structure[0].weight\n",
    "        zeroholder = jnp.zeros_like(old_value)\n",
    "        zeroholder = zeroholder.at[5,7].set(delta_i)\n",
    "        new_agent = eqx.tree_at(where=lambda a: a.next.next.next.actor.mean_network.structure[0].weight, pytree=agent, replace=old_value + zeroholder)\n",
    "        next_state, transition = actor_step_gradded(\n",
    "            current_key, env, state, new_agent.get_action, extra_fields=extra_fields\n",
    "        )\n",
    "        return (next_key, next_state), transition\n",
    "    (_, final_state), data = filter_scan(f, (key, env_state), deltas, length=unroll_length)\n",
    "    return final_state, data\n",
    "\n",
    "@eqx.filter_jit\n",
    "def all_grads_eval(deltas, env, agent, key, N=8, episode_length=200):\n",
    "    reset_keys = jr.split(key, N)\n",
    "    eval_first_state = env.reset(reset_keys)\n",
    "    return generate_unroll_mag(\n",
    "        key,\n",
    "        env,\n",
    "        eval_first_state,\n",
    "        agent, deltas,\n",
    "        unroll_length=episode_length,\n",
    "        extra_fields=(\"truncation\",),\n",
    "    )[0].info['eval_metrics'].episode_metrics['reward'].mean()\n",
    "\n",
    "def generate_unroll_mag_lambdas(\n",
    "    key: jr.PRNGKey, env, env_state, agent, deltas, lambdas, unroll_length, extra_fields\n",
    "):\n",
    "    def f(carry, delta_i):\n",
    "        current_key, state = carry\n",
    "        current_key, next_key = jr.split(current_key)\n",
    "\n",
    "        old_value = agent.next.next.next.actor.mean_network.structure[0].weight\n",
    "        zeroholder = jnp.zeros_like(old_value)\n",
    "        zeroholder = zeroholder.at[5,7].set(delta_i)\n",
    "        new_agent = eqx.tree_at(where=lambda a: a.next.next.next.actor.mean_network.structure[0].weight, pytree=agent, replace=old_value + zeroholder)\n",
    "        next_state, transition = actor_step_gradded(\n",
    "            current_key, env, state, new_agent.get_action, extra_fields=extra_fields\n",
    "        )\n",
    "        return (next_key, next_state), transition\n",
    "    (_, final_state), data = filter_scan(f, (key, env_state), deltas, length=unroll_length)\n",
    "    return final_state, data\n",
    "\n",
    "\n",
    "@eqx.filter_jit\n",
    "def all_grads_eval_lambdas(deltas, env, agent, key, lambdas=1.0, N=8, episode_length=200):\n",
    "    reset_keys = jr.split(key, N)\n",
    "    eval_first_state = env.reset(reset_keys)\n",
    "    rewards = generate_unroll_mag_lambdas(\n",
    "        key,\n",
    "        env,\n",
    "        eval_first_state,\n",
    "        agent, deltas, lambdas,\n",
    "        unroll_length=episode_length,\n",
    "        extra_fields=(\"truncation\",),\n",
    "    )\n",
    "    return jnp.sum(rewards[1].reward.mean(axis=1) * lambdas)"
   ],
   "metadata": {
    "id": "D3haNlA8_qHy",
    "ExecuteTime": {
     "end_time": "2023-11-26T14:18:16.020932153Z",
     "start_time": "2023-11-26T14:18:16.014722532Z"
    }
   },
   "execution_count": 21,
   "outputs": []
  },
  {
   "cell_type": "code",
   "source": [
    "def generate_unroll_mag_pseudo(\n",
    "    key: jr.PRNGKey, env, env_state, agent, deltas, factor, unroll_length, extra_fields\n",
    "):\n",
    "    def f(carry, cons):\n",
    "        current_key, state = carry\n",
    "        current_key, next_key = jr.split(current_key)\n",
    "        delta_i, i = cons\n",
    "\n",
    "        old_value = agent.next.next.next.actor.mean_network.structure[0].weight\n",
    "        zeroholder = jnp.zeros_like(old_value)\n",
    "        zeroholder = zeroholder.at[5,7].set(delta_i * (factor ** (unroll_length - i)))\n",
    "        new_agent = eqx.tree_at(where=lambda a: a.next.next.next.actor.mean_network.structure[0].weight, pytree=agent, replace=old_value + zeroholder)\n",
    "        next_state, transition = actor_step_gradded(\n",
    "            current_key, env, state, new_agent.get_action, extra_fields=extra_fields\n",
    "        )\n",
    "        return (next_key, next_state), transition\n",
    "    (_, final_state), data = filter_scan(f, (key, env_state), (deltas, jnp.arange(len(deltas))), length=unroll_length)\n",
    "    return final_state, data\n",
    "\n",
    "\n",
    "@eqx.filter_jit\n",
    "def all_grads_eval_pseudo(deltas, env, agent, key, factor=1.0, N=2, episode_length=200):\n",
    "    if N == 1:\n",
    "      reset_keys = jr.split(key, 2)\n",
    "    else:\n",
    "      reset_keys = jr.split(key, N)\n",
    "    eval_first_state = env.reset(reset_keys)\n",
    "    rewards = generate_unroll_mag_pseudo(\n",
    "        key,\n",
    "        env,\n",
    "        eval_first_state,\n",
    "        agent, deltas, factor,\n",
    "        unroll_length=episode_length,\n",
    "        extra_fields=(\"truncation\",),\n",
    "    )\n",
    "    if N == 1:\n",
    "      return jnp.sum(rewards[1].reward[:, 0])\n",
    "    else:\n",
    "      return jnp.sum(rewards[1].reward.mean(axis=1))"
   ],
   "metadata": {
    "id": "1RmP26sRSncd",
    "ExecuteTime": {
     "end_time": "2023-11-26T14:18:16.037338657Z",
     "start_time": "2023-11-26T14:18:16.027269202Z"
    }
   },
   "execution_count": 22,
   "outputs": []
  },
  {
   "cell_type": "code",
   "source": [
    "import brax"
   ],
   "metadata": {
    "id": "AO3y_VorTXqD",
    "ExecuteTime": {
     "end_time": "2023-11-26T14:18:16.037690264Z",
     "start_time": "2023-11-26T14:18:16.030882261Z"
    }
   },
   "execution_count": 23,
   "outputs": []
  },
  {
   "cell_type": "code",
   "source": [
    "@eqx.filter_jit\n",
    "def actor_step_gradded(key: jr.PRNGKey, env, env_state, policy: Callable, extra_fields):\n",
    "    \"\"\"Makes a single step with the provided policy in the environment.\"\"\"\n",
    "    keys_policy = jr.split(key, env_state.obs.shape[0])\n",
    "    action, _ = eqx.filter_vmap(policy)(keys_policy, env_state.obs)\n",
    "    next_state = env.step(env_state, action.transformed)\n",
    "\n",
    "    return next_state, Transition(\n",
    "        observation=env_state.obs,\n",
    "        action=action,\n",
    "        reward=next_state.reward,\n",
    "        next_observation=next_state.obs,\n",
    "        # extract requested additional fields\n",
    "        extras={x: next_state.info[x] for x in extra_fields},\n",
    "    )\n",
    "\n",
    "def generate_unroll_jac(\n",
    "    key: jr.PRNGKey, env, env_state, agent, unroll_length, extra_fields\n",
    "):\n",
    "\n",
    "    def _len():\n",
    "      return env_state.pipeline_state.x_i.pos.size + env_state.pipeline_state.x_i.rot.size\n",
    "\n",
    "    def _get(s, i):\n",
    "      return jax.lax.cond(\n",
    "          i < env_state.pipeline_state.x_i.pos.size,\n",
    "          lambda: s.pipeline_state.x_i.pos.flatten()[i],\n",
    "          lambda: s.pipeline_state.x_i.rot.flatten()[i - env_state.pipeline_state.x_i.pos.size]\n",
    "      )\n",
    "\n",
    "    def pack(s):\n",
    "        return jnp.concatenate([s.pos.flatten(), s.rot.flatten()])\n",
    "\n",
    "    def unpack(s):\n",
    "        lena = env_state.pipeline_state.x_i.pos.flatten().shape[0]\n",
    "        lenb = env_state.pipeline_state.x_i.rot.flatten().shape[0]\n",
    "        return brax.Transform(s[:lena].reshape(env_state.pipeline_state.x_i.pos.shape), s[lena:].reshape(env_state.pipeline_state.x_i.rot.shape))\n",
    "\n",
    "\n",
    "    def f(carry, cons):\n",
    "        current_key, state = carry\n",
    "        current_key, next_key = jr.split(current_key)\n",
    "\n",
    "        next_state, transition = actor_step_gradded(\n",
    "            current_key, env, state, agent.get_action, extra_fields=extra_fields\n",
    "        )\n",
    "\n",
    "        def compute_jac():\n",
    "            def preproc(g_state, index):\n",
    "                state_i = eqx.tree_at(lambda x: x.pipeline_state.x_i, state, unpack(g_state))\n",
    "                out = _get(actor_step_gradded(\n",
    "                    current_key, env, state_i, agent.get_action, extra_fields=extra_fields\n",
    "                )[0], index)\n",
    "                return out\n",
    "            def p_grad(index, state_i):\n",
    "                return eqx.filter_grad(jtu.Partial(preproc, index=index))(pack(state_i.pipeline_state.x_i))\n",
    "            return eqx.filter_vmap(jtu.Partial(p_grad, state_i=state))(jnp.arange(_len()))\n",
    "        jac = compute_jac()\n",
    "        print(jac.shape)\n",
    "\n",
    "        return (next_key, next_state), jac\n",
    "    (_, final_state), data = filter_scan(f, (key, env_state), None, length=unroll_length)\n",
    "    return final_state, data\n",
    "\n",
    "@eqx.filter_jit\n",
    "def all_grads_eval_jac(env, agent, key, N=2, episode_length=200):\n",
    "    reset_keys = jr.split(key, N)\n",
    "    eval_first_state = env.reset(reset_keys)\n",
    "    final_state, jacs = generate_unroll_jac(\n",
    "        key,\n",
    "        env,\n",
    "        eval_first_state,\n",
    "        agent,\n",
    "        unroll_length=episode_length,\n",
    "        extra_fields=(\"truncation\",),\n",
    "    )\n",
    "    return jacs"
   ],
   "metadata": {
    "id": "rLIf-932JKoR",
    "ExecuteTime": {
     "end_time": "2023-11-26T14:18:16.079896312Z",
     "start_time": "2023-11-26T14:18:16.039179948Z"
    }
   },
   "execution_count": 24,
   "outputs": []
  },
  {
   "cell_type": "code",
   "source": [
    "@eqx.filter_jit\n",
    "def eval_magic(key, **kwargs):\n",
    "  return all_grads_eval_jac(env, agent, key=key, **kwargs)"
   ],
   "metadata": {
    "id": "JGt0id_bpJX1",
    "ExecuteTime": {
     "end_time": "2023-11-26T14:18:16.080231845Z",
     "start_time": "2023-11-26T14:18:16.079741935Z"
    }
   },
   "execution_count": 25,
   "outputs": []
  },
  {
   "cell_type": "code",
   "execution_count": 29,
   "outputs": [],
   "source": [
    "jax.clear_caches()"
   ],
   "metadata": {
    "collapsed": false,
    "ExecuteTime": {
     "end_time": "2023-11-26T14:44:40.687562611Z",
     "start_time": "2023-11-26T14:44:40.189265810Z"
    }
   }
  },
  {
   "cell_type": "code",
   "source": [
    "jacs = []\n",
    "for i in tqdm(range(32)):\n",
    "  vmapped = eqx.filter_vmap(jtu.Partial(eval_magic, N=1, episode_length=100))\n",
    "  jacs.append(vmapped(jr.split(jr.PRNGKey(i), 8)))\n",
    "jacs = jnp.array(jacs)"
   ],
   "metadata": {
    "colab": {
     "base_uri": "https://localhost:8080/"
    },
    "id": "JLU1PdhzLzCo",
    "outputId": "8acf5422-08c9-48e7-9496-ab3ded284391",
    "ExecuteTime": {
     "end_time": "2023-11-26T14:45:59.062366049Z",
     "start_time": "2023-11-26T14:44:41.232197049Z"
    }
   },
   "execution_count": 30,
   "outputs": [
    {
     "name": "stderr",
     "output_type": "stream",
     "text": [
      "  0%|          | 0/32 [00:00<?, ?it/s]"
     ]
    },
    {
     "name": "stdout",
     "output_type": "stream",
     "text": [
      "(63, 63)\n"
     ]
    },
    {
     "name": "stderr",
     "output_type": "stream",
     "text": [
      "100%|██████████| 32/32 [01:17<00:00,  2.43s/it]\n"
     ]
    }
   ]
  },
  {
   "cell_type": "code",
   "source": [
    "jacs = jacs.reshape((-1, 100, 63, 63))\n",
    "jacs = jnp.flip(jacs, axis=1)"
   ],
   "metadata": {
    "id": "gqQVpwn6aUTI",
    "ExecuteTime": {
     "end_time": "2023-11-26T14:47:57.908475741Z",
     "start_time": "2023-11-26T14:47:57.826322401Z"
    }
   },
   "execution_count": 31,
   "outputs": []
  },
  {
   "cell_type": "code",
   "source": [
    "eig = jax.lax.map(lambda x: jax.lax.map(lambda y: jax.numpy.linalg.eigh(y)[0][-1], x), jacs)"
   ],
   "metadata": {
    "id": "R6yfjDc2QcJ2",
    "ExecuteTime": {
     "end_time": "2023-11-26T14:48:23.249734788Z",
     "start_time": "2023-11-26T14:48:06.751765719Z"
    }
   },
   "execution_count": 32,
   "outputs": []
  },
  {
   "cell_type": "code",
   "source": [
    "\n",
    "print(eig.mean())\n",
    "print(jnp.exp(jnp.mean(jnp.log(eig[eig > 0]))))"
   ],
   "metadata": {
    "colab": {
     "base_uri": "https://localhost:8080/"
    },
    "id": "5OuJM_2JQ6Rh",
    "outputId": "d3c8a4d2-deca-4123-ff7b-e3c156faf430",
    "ExecuteTime": {
     "start_time": "2023-11-26T14:20:24.257501306Z"
    }
   },
   "execution_count": null,
   "outputs": []
  },
  {
   "cell_type": "code",
   "source": [
    "for i in range(20):\n",
    "  print(jax.numpy.linalg.eigh(jacs[0, 50 + i])[0][-1])"
   ],
   "metadata": {
    "colab": {
     "base_uri": "https://localhost:8080/",
     "height": 365
    },
    "id": "xRdQAMetrIXN",
    "outputId": "4297d109-2fd6-47ce-bac8-ef4710b03300",
    "ExecuteTime": {
     "end_time": "2023-11-26T14:20:24.259783563Z",
     "start_time": "2023-11-26T14:20:24.259626372Z"
    }
   },
   "execution_count": null,
   "outputs": []
  },
  {
   "cell_type": "code",
   "source": [
    "print(jacs.shape)"
   ],
   "metadata": {
    "colab": {
     "base_uri": "https://localhost:8080/"
    },
    "id": "rybctMWlSFsY",
    "outputId": "69bb83a6-0edd-4d80-a28d-005f3e2e66bb",
    "ExecuteTime": {
     "end_time": "2023-11-26T14:20:24.263504696Z",
     "start_time": "2023-11-26T14:20:24.261783538Z"
    }
   },
   "execution_count": null,
   "outputs": []
  },
  {
   "cell_type": "code",
   "source": [
    "prd = jnp.eye(63)\n",
    "for i in range(100):\n",
    "  prd = prd @ jacs[1, i]\n",
    "print(jnp.exp(0.01 * jnp.log(jax.numpy.linalg.eigh(prd)[0][-1])))"
   ],
   "metadata": {
    "colab": {
     "base_uri": "https://localhost:8080/"
    },
    "id": "U2UNDJStw7QM",
    "outputId": "d08aab5e-e1ba-48c0-c510-01289d1e4cc2",
    "ExecuteTime": {
     "end_time": "2023-11-26T14:20:24.272376979Z",
     "start_time": "2023-11-26T14:20:24.263993101Z"
    }
   },
   "execution_count": null,
   "outputs": []
  },
  {
   "cell_type": "code",
   "source": [
    "print(jnp.exp(jnp.mean(jax.vmap(lambda x: jnp.log(jax.numpy.linalg.eigh(x)[0][-1]))(jacs[:, 0]))))"
   ],
   "metadata": {
    "colab": {
     "base_uri": "https://localhost:8080/"
    },
    "id": "OrmSUl6Uc8W9",
    "outputId": "9938db5a-17e3-4bff-cb97-0698a02d6fff",
    "ExecuteTime": {
     "start_time": "2023-11-26T14:20:24.266099992Z"
    }
   },
   "execution_count": null,
   "outputs": []
  },
  {
   "cell_type": "code",
   "source": [
    "@eqx.filter_jit\n",
    "def eval_magic(key, **kwargs):\n",
    "  return eqx.filter_grad(all_grads_eval_pseudo)(jnp.zeros((100,)), env, agent, key=key, **kwargs) #1->1e-9; e+05->e-03\n",
    "\n",
    "raw_grad_t = []\n",
    "for i in tqdm(range(32)):\n",
    "  vmapped = eqx.filter_vmap(jtu.Partial(eval_magic, factor=jnp.array(1), N=1, episode_length=100))\n",
    "  raw_grad_t.append(vmapped(jr.split(jr.PRNGKey(i), 32)))\n",
    "raw_grad_t = jnp.array(raw_grad_t)"
   ],
   "metadata": {
    "colab": {
     "base_uri": "https://localhost:8080/"
    },
    "id": "zGGWt9IODP8e",
    "outputId": "799d436b-5956-47f8-ad74-d39157529efa",
    "ExecuteTime": {
     "start_time": "2023-11-26T14:20:24.268088800Z"
    }
   },
   "execution_count": null,
   "outputs": []
  },
  {
   "cell_type": "code",
   "source": [
    "raw_grad_t = jnp.flip(jnp.array(raw_grad_t).reshape(-1, raw_grad_t.shape[-1]), axis=1)"
   ],
   "metadata": {
    "id": "lrCybxmx7l9D",
    "ExecuteTime": {
     "start_time": "2023-11-26T14:20:24.270495393Z"
    }
   },
   "execution_count": null,
   "outputs": []
  },
  {
   "cell_type": "code",
   "source": [
    "plt.plot(raw_grad_t.mean(axis=0))"
   ],
   "metadata": {
    "colab": {
     "base_uri": "https://localhost:8080/",
     "height": 448
    },
    "id": "kFMKDxmB7StA",
    "outputId": "2ff586ec-9ed9-4eab-a6a8-8fd3e5fe6433",
    "ExecuteTime": {
     "end_time": "2023-11-26T14:20:24.276220742Z",
     "start_time": "2023-11-26T14:20:24.272616871Z"
    }
   },
   "execution_count": null,
   "outputs": []
  },
  {
   "cell_type": "code",
   "source": [
    "@eqx.filter_jit\n",
    "def evalg4(key, **kwargs):\n",
    "  return eqx.filter_grad(all_grads_eval_pseudo)(jnp.zeros((200,)), env, agent_r, key=key, **kwargs) #1->1e-9; e+05->e-03\n"
   ],
   "metadata": {
    "id": "3Z0ubKlEZdmH",
    "ExecuteTime": {
     "start_time": "2023-11-26T14:20:24.274607656Z"
    }
   },
   "execution_count": null,
   "outputs": []
  },
  {
   "cell_type": "code",
   "source": [
    "\n",
    "l4 = []\n",
    "for i in tqdm(range(32)):\n",
    "  vmapped = eqx.filter_vmap(jtu.Partial(evalg4, factor=jnp.array(1 / 1.05), N=2, episode_length=200))\n",
    "  l4.append(vmapped(jr.split(jr.PRNGKey(i), 32)))"
   ],
   "metadata": {
    "colab": {
     "base_uri": "https://localhost:8080/"
    },
    "id": "EQutYa9dYSBZ",
    "outputId": "fd535d05-58a5-417a-be44-64d602470d67",
    "ExecuteTime": {
     "start_time": "2023-11-26T14:20:24.275738268Z"
    }
   },
   "execution_count": null,
   "outputs": []
  },
  {
   "cell_type": "code",
   "source": [
    "l4 = jnp.array(l4)\n",
    "data_ts = jnp.flip(l4.reshape(-1, 200), axis=1)\n",
    "print(jnp.median(data_ts))\n",
    "from matplotlib import pyplot as plt\n",
    "fig, ax = plt.subplots()\n",
    "ax.plot(jnp.median(data_ts, axis=0), 'r', label='median (1k samples)')\n",
    "ax.set_xlabel(\"length of grad eval (singular) (implicit mean of every pair)\")\n",
    "ax.set_ylabel(\"value of ours FOBG for random agent | recalibrated factor\")\n",
    "ax.legend()"
   ],
   "metadata": {
    "colab": {
     "base_uri": "https://localhost:8080/",
     "height": 502
    },
    "id": "6uzM3GKuY4uS",
    "outputId": "459d74b8-e895-49e2-d83a-2cde5d721c77",
    "ExecuteTime": {
     "start_time": "2023-11-26T14:20:24.317681099Z"
    }
   },
   "execution_count": null,
   "outputs": []
  },
  {
   "cell_type": "code",
   "source": [
    "l3 = jnp.array(l3)\n",
    "data_ts = jnp.flip(l3.reshape(-1, 200), axis=1)\n",
    "\n",
    "from matplotlib import pyplot as plt\n",
    "fig, ax = plt.subplots()\n",
    "ax.plot(jnp.log(jnp.mean(jnp.abs(data_ts), axis=0)), 'g', label='mean of abs (1k samples)')\n",
    "ax.plot(jnp.log(jnp.median(jnp.abs(data_ts), axis=0)), 'r', label='median of abs (1k samples)')\n",
    "ax.set_xlabel(\"length of grad eval (singular) (implicit mean of every pair)\")\n",
    "ax.set_ylabel(\"log of the absolute value of !ours! FOBG\")\n",
    "ax.legend()"
   ],
   "metadata": {
    "colab": {
     "base_uri": "https://localhost:8080/",
     "height": 949
    },
    "id": "Cz68f55WV_wQ",
    "outputId": "501b0d63-5135-4dc3-febb-2ef34b9e6f02",
    "ExecuteTime": {
     "start_time": "2023-11-26T14:20:24.317825944Z"
    }
   },
   "execution_count": null,
   "outputs": []
  },
  {
   "cell_type": "code",
   "source": [
    "l2 = jnp.array(l2)\n",
    "data_ts = jnp.flip(l2.reshape(-1, 200), axis=1)\n",
    "\n",
    "from matplotlib import pyplot as plt\n",
    "fig, ax = plt.subplots()\n",
    "ax.plot(jnp.mean(data_ts, axis=0), 'g', label='mean(1k samples)')\n",
    "ax.plot(jnp.median(data_ts, axis=0), 'r', label='median (1k samples)')\n",
    "ax.set_xlabel(\"length of grad eval (singular) (implicit mean of every pair)\")\n",
    "ax.set_ylabel(\"value of standard FOBG\")\n",
    "ax.legend()\n",
    "\n",
    "assert False"
   ],
   "metadata": {
    "id": "Cxv3E22KWpnd",
    "ExecuteTime": {
     "start_time": "2023-11-26T14:20:24.317885142Z"
    }
   },
   "execution_count": null,
   "outputs": []
  },
  {
   "cell_type": "code",
   "source": [
    "l3 = jnp.array(l3)\n",
    "data_ts = jnp.flip(l3.reshape(-1, 200), axis=1)\n",
    "N = data_ts.shape[0]\n",
    "\n",
    "med = jnp.median(data_ts, axis=0)\n",
    "std = 3 * jnp.std(data_ts, axis=0) / jnp.sqrt(N)\n",
    "mean = jnp.mean(data_ts, axis=0)\n",
    "mad = 1.5 * 3 * jnp.median(jnp.absolute(data_ts - med)) / jnp.sqrt(N)\n",
    "\n",
    "from matplotlib import pyplot as plt\n",
    "fig, ax = plt.subplots()\n",
    "ax.plot(jnp.mean(data_ts, axis=0), 'g', label='mean(1k samples)')\n",
    "ax.fill_between(jnp.arange(data_ts.shape[1]), mean + std, mean - std, alpha=0.2, color='g')\n",
    "ax.plot(jnp.median(data_ts, axis=0), 'r', label='median (1k samples)')\n",
    "ax.fill_between(jnp.arange(data_ts.shape[1]), med + mad, med-mad, alpha=0.2, color='r')\n",
    "ax.set_xlabel(\"length of grad eval (singular) (implicit mean of every pair)\")\n",
    "ax.set_ylabel(\"value of ours FOBG\")\n",
    "ax.legend()"
   ],
   "metadata": {
    "id": "isViFa-PanEx",
    "ExecuteTime": {
     "start_time": "2023-11-26T14:20:24.317937322Z"
    }
   },
   "execution_count": null,
   "outputs": []
  },
  {
   "cell_type": "code",
   "source": [
    "def evalg2(key, **kwargs):\n",
    "  return eqx.filter_grad(all_grads_eval)(jnp.zeros((200,)), env, agent, key, **kwargs)\n",
    "l2 = []\n",
    "for i in tqdm(range(32)):\n",
    "  l2.append(eqx.filter_vmap(jtu.Partial(evalg2, episode_length=200, N=2))(jr.split(jr.PRNGKey(i), 32)))"
   ],
   "metadata": {
    "id": "bdPeEPPlAqs6",
    "ExecuteTime": {
     "start_time": "2023-11-26T14:20:24.317985052Z"
    }
   },
   "execution_count": null,
   "outputs": []
  },
  {
   "cell_type": "code",
   "source": [
    "l2 = jnp.array(l2)\n",
    "data_ts = jnp.flip(l2.reshape(-1, 200), axis=1)\n",
    "\n",
    "from matplotlib import pyplot as plt\n",
    "fig, ax = plt.subplots()\n",
    "ax.plot(jnp.log(jnp.mean(jnp.abs(data_ts), axis=0)), 'g', label='mean (1k samples)')\n",
    "ax.plot(jnp.log(jnp.median(jnp.abs(data_ts), axis=0)), 'r', label='median (1k samples)')\n",
    "ax.set_xlabel(\"length of grad eval (singular) (implicit mean of every pair)\")\n",
    "ax.set_ylabel(\"log of the absolute value of the FOBG\")\n",
    "ax.legend()"
   ],
   "metadata": {
    "id": "IfHRVl4OD-g4",
    "ExecuteTime": {
     "start_time": "2023-11-26T14:20:24.318034218Z"
    }
   },
   "execution_count": null,
   "outputs": []
  },
  {
   "cell_type": "code",
   "source": [
    "def evalg(key, **kwargs):\n",
    "  return eqx.filter_grad(eval)(jnp.zeros(()), env, agent, key, **kwargs)\n",
    "#evalg = eqx.filter_grad(eval)\n",
    "#print(evalg(jr.PRNGKey(0), jnp.zeros(()), env, agent, episode_length=1, N=1))\n",
    "out = eqx.filter_grad(eval)(jnp.zeros(()), env, agent, jr.PRNGKey(0), episode_length=10, N=2)\n",
    "print(out)"
   ],
   "metadata": {
    "id": "wOwwk_9xp9k2",
    "ExecuteTime": {
     "end_time": "2023-11-26T14:20:24.329651195Z",
     "start_time": "2023-11-26T14:20:24.318081014Z"
    }
   },
   "execution_count": null,
   "outputs": []
  },
  {
   "cell_type": "code",
   "source": [
    "print(evalg(jr.PRNGKey(0), episode_length=10, N=2))"
   ],
   "metadata": {
    "id": "tDaAPj__rOxZ",
    "ExecuteTime": {
     "start_time": "2023-11-26T14:20:24.318132879Z"
    }
   },
   "execution_count": null,
   "outputs": []
  },
  {
   "cell_type": "code",
   "source": [
    "vevalg = eqx.filter_vmap(jtu.Partial(evalg, episode_length=200, N=2))(jr.split(jr.PRNGKey(0), 32))\n",
    "\n",
    "l = []\n",
    "for i in tqdm(range(256)):\n",
    "  l.append(eqx.filter_vmap(jtu.Partial(evalg, episode_length=200, N=2))(jr.split(jr.PRNGKey(i), 32)))"
   ],
   "metadata": {
    "id": "tS1FPEoVrUzJ",
    "ExecuteTime": {
     "start_time": "2023-11-26T14:20:24.318180228Z"
    }
   },
   "execution_count": null,
   "outputs": []
  },
  {
   "cell_type": "code",
   "source": [
    "data = jnp.concatenate(l).flatten()\n",
    "print(data)\n",
    "print(len(data))"
   ],
   "metadata": {
    "id": "nP5PebOrvHeJ"
   },
   "execution_count": null,
   "outputs": []
  },
  {
   "cell_type": "code",
   "source": [
    "print(jnp.mean(data))\n",
    "print(jnp.median(data))\n",
    "print(jnp.mean(jnp.sort(data)[5:-5]))"
   ],
   "metadata": {
    "id": "XxS4QZMJsVH3"
   },
   "execution_count": null,
   "outputs": []
  },
  {
   "cell_type": "code",
   "source": [
    "pdf = jax.scipy.stats.gaussian_kde(data[len(data)//3:-len(data)//3]).pdf"
   ],
   "metadata": {
    "id": "gvPAAJWP8nqg"
   },
   "execution_count": null,
   "outputs": []
  },
  {
   "cell_type": "code",
   "source": [
    "def estimate_maxima(data):\n",
    "    kde = jax.scipy.stats.gaussian_kde(data)\n",
    "    no_samples = 100000\n",
    "    samples = jnp.linspace(jnp.min(data), jnp.max(data), no_samples)\n",
    "    probs = kde.evaluate(samples)\n",
    "    maxima_index = probs.argmax()\n",
    "    maxima = samples[maxima_index]\n",
    "\n",
    "    return maxima\n",
    "deltalen = int(len(data) * 0.44)\n",
    "estimate_maxima(data[deltalen:-deltalen])"
   ],
   "metadata": {
    "id": "xeljPRNh96Jh"
   },
   "execution_count": null,
   "outputs": []
  },
  {
   "cell_type": "code",
   "source": [
    "print(pdf(jnp.median(data)))\n",
    "print(pdf(0))"
   ],
   "metadata": {
    "id": "jFHJ9jHE864J"
   },
   "execution_count": null,
   "outputs": []
  },
  {
   "cell_type": "code",
   "source": [
    "deltalen = int(len(data) * 0.4)\n",
    "print(jnp.mean(jnp.sort(data)[deltalen:-deltalen]))"
   ],
   "metadata": {
    "id": "8CoQXPIHzoJF"
   },
   "execution_count": null,
   "outputs": []
  },
  {
   "cell_type": "code",
   "source": [
    "from matplotlib import pyplot as plt\n",
    "\n",
    "hist, bins, _ = plt.hist(data, log=True, bins=len(data) // 10)\n",
    "plt.show()\n",
    "hist, bins, _ = plt.hist(data, bins=len(data) // 10)\n",
    "plt.show()"
   ],
   "metadata": {
    "id": "s9Dz4PTEufWx"
   },
   "execution_count": null,
   "outputs": []
  },
  {
   "cell_type": "code",
   "source": [
    "al = []\n",
    "bl = []\n",
    "\n",
    "from tqdm import tqdm as tqdm\n",
    "\n",
    "for i in tqdm(range(100)):\n",
    "  k = jr.PRNGKey(100000 + i)\n",
    "  a = eval(jnp.zeros(()), env, agent, k, episode_length=200, N=1000)\n",
    "  b = eval(jnp.ones(()) * 1e-3, env, agent, k, episode_length=200, N=1000)\n",
    "  al.append(a)\n",
    "  bl.append(b)"
   ],
   "metadata": {
    "id": "uapuFRUb406o"
   },
   "execution_count": null,
   "outputs": []
  },
  {
   "cell_type": "code",
   "source": [
    "a = jnp.array(al[len(al)//2:]).mean()\n",
    "b = jnp.array(bl[len(al)//2:]).mean()"
   ],
   "metadata": {
    "id": "_2z9YzKL52_k"
   },
   "execution_count": null,
   "outputs": []
  },
  {
   "cell_type": "code",
   "source": [
    "print((a-b)/(1e-3))"
   ],
   "metadata": {
    "id": "TjoFbJkS5LwD"
   },
   "execution_count": null,
   "outputs": []
  },
  {
   "cell_type": "code",
   "source": [
    "#out = eqx.filter_grad(eval)(jnp.zeros(()), env, agent, jr.PRNGKey(0), episode_length=10)\n",
    "#print(out) # 1.5"
   ],
   "metadata": {
    "id": "EVAGt2h1PR2j"
   },
   "execution_count": null,
   "outputs": []
  },
  {
   "cell_type": "code",
   "source": [
    "#out = eqx.filter_grad(eval)(jnp.zeros(()), env, agent, jr.PRNGKey(0), episode_length=40)\n",
    "#print(out) # 12"
   ],
   "metadata": {
    "id": "1WvEa7g9PNCM"
   },
   "execution_count": null,
   "outputs": []
  },
  {
   "cell_type": "code",
   "execution_count": null,
   "metadata": {
    "id": "hH5ac5WLp07O"
   },
   "outputs": [],
   "source": [
    "#outs = []\n",
    "#for i in range(50):\n",
    "#  outs.append(eqx.filter_grad(eval)(jnp.zeros(()), env, agent, jr.PRNGKey(i), episode_length=40))\n",
    "#outs = jnp.array(outs)\n",
    "#print(jnp.mean(outs), jnp.std(outs))"
   ]
  },
  {
   "cell_type": "code",
   "source": [
    "#outs = []\n",
    "#for i in range(50):\n",
    "#  outs.append(eqx.filter_grad(eval)(jnp.zeros(()), env, agent, jr.PRNGKey(i), episode_length=10))\n",
    "#outs = jnp.array(outs)\n",
    "#print(jnp.mean(outs), jnp.std(outs))"
   ],
   "metadata": {
    "id": "UP01_Zxriy_n"
   },
   "execution_count": null,
   "outputs": []
  },
  {
   "cell_type": "code",
   "source": [
    "x = jtu.Partial(eval, delta=jnp.zeros(()), env=env, agent=agent, episode_length=400)(jr.PRNGKey(0))"
   ],
   "metadata": {
    "id": "SpG-ErPMg_gi"
   },
   "execution_count": null,
   "outputs": []
  },
  {
   "cell_type": "code",
   "source": [
    "print(x)"
   ],
   "metadata": {
    "id": "az89BUQlhGNW"
   },
   "execution_count": null,
   "outputs": []
  },
  {
   "cell_type": "code",
   "source": [
    "outs = eqx.filter_vmap(jtu.Partial(evalg, delta=jnp.zeros(()), env=env, agent=agent, episode_length=400))(jr.split(jr.PRNGKey(0), 32))\n",
    "outs = jnp.array(outs)\n",
    "print(jnp.mean(outs), jnp.std(outs))"
   ],
   "metadata": {
    "id": "P9OC-_o_i7fA"
   },
   "execution_count": null,
   "outputs": []
  },
  {
   "cell_type": "code",
   "source": [
    "!pip install tqdm\n",
    "from tqdm import tqdm as tqdm\n",
    "outs_r = []\n",
    "for i in tqdm(range(5000)):\n",
    "  outs_r.append(eqx.filter_grad(eval)(jnp.zeros(()), env, agent_r, jr.PRNGKey(i), episode_length=400))\n",
    "outs_r = jnp.array(outs_r)\n",
    "print(jnp.mean(outs_r), jnp.std(outs_r))"
   ],
   "metadata": {
    "id": "rUqViAUQeoV9"
   },
   "execution_count": null,
   "outputs": []
  },
  {
   "cell_type": "code",
   "source": [
    "#outs = []\n",
    "#for i in range(50):\n",
    "#  outs.append(eqx.filter_grad(eval)(jnp.zeros(()), env, agent_r, jr.PRNGKey(i), episode_length=10))\n",
    "#outs = jnp.array(outs)\n",
    "#print(jnp.mean(outs), jnp.std(outs))"
   ],
   "metadata": {
    "id": "LYLuCVl7nROB"
   },
   "execution_count": null,
   "outputs": []
  },
  {
   "cell_type": "code",
   "source": [
    "# 10 -> 1.5\n",
    "# 40 -> 12\n",
    "# 160 -> 12000\n",
    "# 640 -> 6 * 10e18"
   ],
   "metadata": {
    "id": "jXOS3bDGNHa0"
   },
   "execution_count": null,
   "outputs": []
  }
 ],
 "metadata": {
  "accelerator": "GPU",
  "colab": {
   "provenance": [],
   "machine_shape": "hm",
   "gpuType": "V100"
  },
  "kernelspec": {
   "name": "python3",
   "language": "python",
   "display_name": "Python 3 (ipykernel)"
  },
  "language_info": {
   "codemirror_mode": {
    "name": "ipython",
    "version": 3
   },
   "file_extension": ".py",
   "mimetype": "text/x-python",
   "name": "python",
   "nbconvert_exporter": "python",
   "pygments_lexer": "ipython3",
   "version": "3.10.4"
  }
 },
 "nbformat": 4,
 "nbformat_minor": 0
}
